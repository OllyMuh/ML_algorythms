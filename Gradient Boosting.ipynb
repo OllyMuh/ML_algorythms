{
  "cells": [
    {
      "cell_type": "markdown",
      "metadata": {
        "id": "view-in-github",
        "colab_type": "text"
      },
      "source": [
        "<a href=\"https://colab.research.google.com/github/OllyMuh/ML_algorythms/blob/main/Gradient%20Boosting.ipynb\" target=\"_parent\"><img src=\"https://colab.research.google.com/assets/colab-badge.svg\" alt=\"Open In Colab\"/></a>"
      ]
    },
    {
      "cell_type": "markdown",
      "metadata": {
        "id": "41AitfhKbsha"
      },
      "source": [
        "# ДЗ 6. Градиентный бустинг. AdaBoost"
      ]
    },
    {
      "cell_type": "code",
      "execution_count": null,
      "metadata": {
        "collapsed": true,
        "id": "Qk-74OFhbshx"
      },
      "outputs": [],
      "source": [
        "from sklearn.tree import DecisionTreeRegressor\n",
        "\n",
        "from sklearn import model_selection\n",
        "import numpy as np"
      ]
    },
    {
      "cell_type": "code",
      "execution_count": null,
      "metadata": {
        "collapsed": true,
        "id": "eDZbSvqMbsh1"
      },
      "outputs": [],
      "source": [
        "from sklearn.datasets import load_diabetes"
      ]
    },
    {
      "cell_type": "markdown",
      "metadata": {
        "id": "LYD1kLOibsh0"
      },
      "source": [
        "Используем один из «игрушечных» датасетов из той же библиотеки."
      ]
    },
    {
      "cell_type": "code",
      "execution_count": null,
      "metadata": {
        "collapsed": true,
        "id": "leu8bBI7bsh6"
      },
      "outputs": [],
      "source": [
        "X, y = load_diabetes(return_X_y=True)"
      ]
    },
    {
      "cell_type": "markdown",
      "metadata": {
        "id": "cz_JhiIpbsh8"
      },
      "source": [
        "Разделим выборку на обучающую и тестовую в соотношении 75/25."
      ]
    },
    {
      "cell_type": "code",
      "execution_count": null,
      "metadata": {
        "collapsed": true,
        "id": "ExZPR9FLbsh9"
      },
      "outputs": [],
      "source": [
        "X_train, X_test, y_train, y_test = model_selection.train_test_split(X, y, test_size=0.25)"
      ]
    },
    {
      "cell_type": "markdown",
      "metadata": {
        "id": "7xJCdggZbsh_"
      },
      "source": [
        "Напишем функцию, реализующую предсказание в градиентном бустинге."
      ]
    },
    {
      "cell_type": "code",
      "execution_count": null,
      "metadata": {
        "collapsed": true,
        "id": "wU_Rkc63bsiA"
      },
      "outputs": [],
      "source": [
        "def gb_predict(X, trees_list, coef_list, eta):\n",
        "    # Реализуемый алгоритм градиентного бустинга будет инициализироваться нулевыми значениями,\n",
        "    # поэтому все деревья из списка trees_list уже считаются дополнительными и при предсказании прибавляются с шагом eta\n",
        "    return np.array([sum([eta* coef * alg.predict([x])[0] for alg, coef in zip(trees_list, coef_list)]) for x in X])"
      ]
    },
    {
      "cell_type": "markdown",
      "metadata": {
        "id": "6gZvsyfSbsiD"
      },
      "source": [
        "В качестве функционала ошибки будем использовать среднеквадратичную ошибку. Реализуем соответствующую функцию."
      ]
    },
    {
      "cell_type": "code",
      "execution_count": null,
      "metadata": {
        "collapsed": true,
        "id": "0xbjFIEKbsiE"
      },
      "outputs": [],
      "source": [
        "def mean_squared_error(y_real, prediction):\n",
        "    return (sum((y_real - prediction)**2)) / len(y_real)"
      ]
    },
    {
      "cell_type": "markdown",
      "metadata": {
        "id": "Qlr3KD6zbsiH"
      },
      "source": [
        "Используем $L_{2}$ loss $L(y, z) = (y-z)^{2},$ её производная по $z$ примет вид $L'(y, z) = 2(z-y)$. Реализуем её также в виде функции — коэффициент 2 можно отбросить."
      ]
    },
    {
      "cell_type": "code",
      "execution_count": null,
      "metadata": {
        "collapsed": true,
        "id": "WRaZEd3ebsiI"
      },
      "outputs": [],
      "source": [
        "def bias(y, z):\n",
        "    return (y - z)"
      ]
    },
    {
      "cell_type": "markdown",
      "metadata": {
        "id": "ut-7dBgVbsiK"
      },
      "source": [
        "Реализуем функцию обучения градиентного бустинга."
      ]
    },
    {
      "cell_type": "code",
      "execution_count": null,
      "metadata": {
        "collapsed": true,
        "id": "HoIdAoPYbsiL"
      },
      "outputs": [],
      "source": [
        "def gb_fit(n_trees, max_depth, X_train, X_test, y_train, y_test, coefs, eta):\n",
        "    \n",
        "    # Деревья будем записывать в список\n",
        "    trees = []\n",
        "    \n",
        "    # Будем записывать ошибки на обучающей и тестовой выборке на каждой итерации в список\n",
        "    train_errors = []\n",
        "    test_errors = []\n",
        "    \n",
        "    for i in range(n_trees):\n",
        "        tree = DecisionTreeRegressor(max_depth=max_depth, random_state=42)\n",
        "\n",
        "        # инициализируем бустинг начальным алгоритмом, возвращающим ноль, \n",
        "        # поэтому первый алгоритм просто обучаем на выборке и добавляем в список\n",
        "        if len(trees) == 0:\n",
        "            # обучаем первое дерево на обучающей выборке\n",
        "            tree.fit(X_train, y_train)\n",
        "            \n",
        "            train_errors.append(mean_squared_error(y_train, gb_predict(X_train, trees, coefs, eta)))\n",
        "            test_errors.append(mean_squared_error(y_test, gb_predict(X_test, trees, coefs, eta)))\n",
        "        else:\n",
        "            # Получим ответы на текущей композиции\n",
        "            target = gb_predict(X_train, trees, coefs, eta)\n",
        "            \n",
        "            # алгоритмы начиная со второго обучаем на сдвиг\n",
        "            tree.fit(X_train, bias(y_train, target))\n",
        "            \n",
        "            train_errors.append(mean_squared_error(y_train, gb_predict(X_train, trees, coefs, eta)))\n",
        "            test_errors.append(mean_squared_error(y_test, gb_predict(X_test, trees, coefs, eta)))\n",
        "\n",
        "        trees.append(tree)\n",
        "        \n",
        "    return trees, train_errors, test_errors"
      ]
    },
    {
      "cell_type": "markdown",
      "metadata": {
        "id": "9RCgJuOWxRfD"
      },
      "source": [
        "## Практическое задание"
      ]
    },
    {
      "cell_type": "markdown",
      "metadata": {
        "id": "6D-Yt_uGxRfD"
      },
      "source": [
        "**1. Для реализованной модели градиентного бустинга постройте графики зависимости ошибки от количества деревьев в ансамбле и от максимальной глубины деревьев. Сделайте выводы о зависимости ошибки от этих параметров.**"
      ]
    },
    {
      "cell_type": "code",
      "execution_count": null,
      "metadata": {
        "collapsed": true,
        "id": "QXrSdSgjbsic"
      },
      "outputs": [],
      "source": [
        "import matplotlib.pyplot as plt\n",
        "import matplotlib\n",
        "%matplotlib inline"
      ]
    },
    {
      "cell_type": "code",
      "execution_count": null,
      "metadata": {
        "collapsed": true,
        "id": "2WvxluSlbsiO"
      },
      "outputs": [],
      "source": [
        "# Число деревьев в ансамбле\n",
        "n_trees = 10\n",
        "\n",
        "# для простоты примем коэффициенты равными 1\n",
        "coefs = [1] * n_trees\n",
        "\n",
        "# Максимальная глубина деревьев\n",
        "max_depth = 3\n",
        "\n",
        "# Шаг\n",
        "eta = 0.1\n",
        "\n",
        "trees, train_errors, test_errors = gb_fit(n_trees, max_depth, X_train, X_test, y_train, y_test, coefs, eta)"
      ]
    },
    {
      "cell_type": "markdown",
      "metadata": {
        "id": "TluGn7Iubsib"
      },
      "source": [
        "Построим график зависимости ошибки на обучающей и тестовой выборках от числа деревьев."
      ]
    },
    {
      "cell_type": "code",
      "source": [
        "train_errors = []\n",
        "test_errors = []\n",
        "\n",
        "for n_trees in range(1, 20):\n",
        "    trees, train_errors_, test_errors_ = gb_fit(n_trees, max_depth, X_train, X_test, y_train, y_test, coefs, eta)\n",
        "    train_prediction = gb_predict(X_train, trees, coefs, eta)\n",
        "    test_prediction = gb_predict(X_test, trees, coefs, eta)\n",
        "    train_errors.append(mean_squared_error(y_train, train_prediction))\n",
        "    test_errors.append(mean_squared_error(y_test, test_prediction))"
      ],
      "metadata": {
        "id": "b_1gJyfGEMlR"
      },
      "execution_count": null,
      "outputs": []
    },
    {
      "cell_type": "code",
      "source": [
        "x = list(range(1, 20))\n",
        "\n",
        "plt.xlim(0, 20)\n",
        "plt.plot(x, train_errors, label='train errors')\n",
        "plt.plot(x, test_errors, label='test errors')\n",
        "plt.xlabel('N_trees')\n",
        "plt.ylabel('MSE')\n",
        "plt.legend(loc='upper right');"
      ],
      "metadata": {
        "colab": {
          "base_uri": "https://localhost:8080/",
          "height": 283
        },
        "id": "VojAwLMYFMkD",
        "outputId": "8d2aef5f-13ea-4c33-af39-8fdd07a7cf37"
      },
      "execution_count": null,
      "outputs": [
        {
          "output_type": "display_data",
          "data": {
            "text/plain": [
              "<Figure size 432x288 with 1 Axes>"
            ],
            "image/png": "[encoded data removed]"
          },
          "metadata": {
            "needs_background": "light"
          }
        }
      ]
    },
    {
      "cell_type": "markdown",
      "metadata": {
        "id": "9n8R32khbsil"
      },
      "source": [
        "Построим график зависимости ошибки на обучающей и тестовой выборках от максимальной глубины дерева."
      ]
    },
    {
      "cell_type": "code",
      "source": [
        "train_errors = []\n",
        "test_errors = []\n",
        "\n",
        "for max_depth in range(1, 25):\n",
        "    trees, train_errors_, test_errors_ = gb_fit(n_trees, max_depth, X_train, X_test, y_train, y_test, coefs, eta)\n",
        "    train_prediction = gb_predict(X_train, trees, coefs, eta)\n",
        "    test_prediction = gb_predict(X_test, trees, coefs, eta)\n",
        "    train_errors.append(mean_squared_error(y_train, train_prediction))\n",
        "    test_errors.append(mean_squared_error(y_test, test_prediction))"
      ],
      "metadata": {
        "id": "lyL0QhScGEDQ"
      },
      "execution_count": null,
      "outputs": []
    },
    {
      "cell_type": "code",
      "source": [
        "x = list(range(1, 25))\n",
        "\n",
        "plt.xlim(0, 25)\n",
        "plt.plot(x, train_errors, label='train errors')\n",
        "plt.plot(x, test_errors, label='test errors')\n",
        "plt.xlabel('MAX_depth')\n",
        "plt.ylabel('MSE')\n",
        "plt.legend(loc='center right');"
      ],
      "metadata": {
        "colab": {
          "base_uri": "https://localhost:8080/",
          "height": 280
        },
        "id": "xA62RQWXGRg_",
        "outputId": "4d849847-d824-4b4f-bc82-73d1b02462f9"
      },
      "execution_count": null,
      "outputs": [
        {
          "output_type": "display_data",
          "data": {
            "text/plain": [
              "<Figure size 432x288 with 1 Axes>"
            ],
            "image/png": "[encoded data removed]"
          },
          "metadata": {
            "needs_background": "light"
          }
        }
      ]
    },
    {
      "cell_type": "markdown",
      "source": [
        "Вывод: \n",
        "\n",
        "1. При увеличении количества деревьев ошибка уменьшается. Модель немного переобучается при достижении оптимального количества деревьев, но после этого ошибка уже не растет, т.к. деревьям уже нечего друг за другом исправлять.\n",
        "\n",
        "2. При увеличении глубины деревьев модель сильно переобучается. Оптимально использовать ГБ при незначительной максимальной глубине."
      ],
      "metadata": {
        "id": "GMq5rRIyHku_"
      }
    },
    {
      "cell_type": "markdown",
      "source": [
        "**2. Модифицируйте реализованный алгоритм, чтобы получился стохастический градиентный бустинг. Размер подвыборки примите равным 0.5. Сравните на одном графике кривые изменения ошибки на тестовой выборке в зависимости от числа итераций.**"
      ],
      "metadata": {
        "id": "SbwQnM5yG35o"
      }
    },
    {
      "cell_type": "code",
      "execution_count": null,
      "metadata": {
        "id": "Lz7LAD9VxRfJ"
      },
      "outputs": [],
      "source": [
        "def sgb_fit(n_trees, max_depth, X_train, X_test, y_train, y_test, coefs, eta, rand_sample_size=0.5):\n",
        "    \n",
        "    # Деревья будем записывать в список\n",
        "    trees = []\n",
        "    \n",
        "    # Будем записывать ошибки на обучающей и тестовой выборке на каждой итерации в список\n",
        "    train_errors = []\n",
        "    test_errors = []\n",
        "    \n",
        "    for i in range(n_trees):\n",
        "        tree = DecisionTreeRegressor(max_depth=max_depth, random_state=42)\n",
        "\n",
        "        # инициализируем бустинг начальным алгоритмом, возвращающим ноль, \n",
        "        # поэтому первый алгоритм просто обучаем на выборке и добавляем в список\n",
        "        if len(trees) == 0:\n",
        "            # обучаем первое дерево на обучающей выборке\n",
        "            tree.fit(X_train, y_train)\n",
        "            \n",
        "            train_errors.append(mean_squared_error(y_train, gb_predict(X_train, trees, coefs, eta)))\n",
        "            test_errors.append(mean_squared_error(y_test, gb_predict(X_test, trees, coefs, eta)))\n",
        "        else:\n",
        "            # Рандомный выбор индексов в установленном рандомном размере\n",
        "            all_ind = list(range(X_train.shape[0]))\n",
        "            train_ind = np.random.choice(all_ind, size=int(rand_sample_size*len(all_ind)))\n",
        "            \n",
        "            # Получим ответы на текущей выбранной композиции\n",
        "            target = gb_predict(X_train[train_ind], trees, coefs, eta)\n",
        "            \n",
        "            # алгоритмы начиная со второго обучаем на сдвиг, но не полный, а только части выборки\n",
        "            tree.fit(X_train[train_ind], bias(y_train[train_ind], target))\n",
        "            \n",
        "            train_errors.append(mean_squared_error(y_train[train_ind], gb_predict(X_train[train_ind], trees, coefs, eta)))\n",
        "            test_errors.append(mean_squared_error(y_test, gb_predict(X_test, trees, coefs, eta)))\n",
        "\n",
        "        trees.append(tree)\n",
        "        \n",
        "    return trees, train_errors, test_errors\n",
        "\n",
        "\n",
        "# def gb_fit(n_trees, max_depth, X_train, X_test, y_train, y_test, coefs, eta):\n",
        "    \n",
        "#     # Деревья будем записывать в список\n",
        "#     trees = []\n",
        "    \n",
        "#     # Будем записывать ошибки на обучающей и тестовой выборке на каждой итерации в список\n",
        "#     train_errors = []\n",
        "#     test_errors = []\n",
        "    \n",
        "#     for i in range(n_trees):\n",
        "#         tree = DecisionTreeRegressor(max_depth=max_depth, random_state=42)\n",
        "\n",
        "#         # инициализируем бустинг начальным алгоритмом, возвращающим ноль, \n",
        "#         # поэтому первый алгоритм просто обучаем на выборке и добавляем в список\n",
        "#         if len(trees) == 0:\n",
        "#             # обучаем первое дерево на обучающей выборке\n",
        "#             tree.fit(X_train, y_train)\n",
        "            \n",
        "#             train_errors.append(mean_squared_error(y_train, gb_predict(X_train, trees, coefs, eta)))\n",
        "#             test_errors.append(mean_squared_error(y_test, gb_predict(X_test, trees, coefs, eta)))\n",
        "#         else:\n",
        "#             # Получим ответы на текущей композиции\n",
        "#             target = gb_predict(X_train, trees, coefs, eta)\n",
        "            \n",
        "#             # алгоритмы начиная со второго обучаем на сдвиг\n",
        "#             tree.fit(X_train, bias(y_train, target))\n",
        "            \n",
        "#             train_errors.append(mean_squared_error(y_train, gb_predict(X_train, trees, coefs, eta)))\n",
        "#             test_errors.append(mean_squared_error(y_test, gb_predict(X_test, trees, coefs, eta)))\n",
        "\n",
        "#         trees.append(tree)\n",
        "        \n",
        "#     return trees, train_errors, test_errors"
      ]
    },
    {
      "cell_type": "code",
      "source": [
        "n_trees = 10\n",
        "coefs = [1] * n_trees\n",
        "max_depth = 3\n",
        "eta = 0.5\n",
        "\n",
        "trees, train_errors_s, test_errors_s = sgb_fit(n_trees, max_depth, X_train, X_test, y_train, y_test, coefs, eta)"
      ],
      "metadata": {
        "id": "VmVTJqZuM-qf"
      },
      "execution_count": null,
      "outputs": []
    },
    {
      "cell_type": "code",
      "source": [
        "trees, train_errors, test_errors = gb_fit(n_trees, max_depth, X_train, X_test, y_train, y_test, coefs, eta)"
      ],
      "metadata": {
        "id": "ZkPbaHSVPLRT"
      },
      "execution_count": null,
      "outputs": []
    },
    {
      "cell_type": "code",
      "source": [
        "plt.xlabel('Iteration number')\n",
        "plt.ylabel('MSE')\n",
        "plt.xlim(0, n_trees)\n",
        "plt.plot(list(range(n_trees)), test_errors, label='normal boost')\n",
        "plt.plot(list(range(n_trees)), test_errors_s, label='stohastic boost')\n",
        "plt.legend(loc='upper right')\n",
        "plt.show();"
      ],
      "metadata": {
        "colab": {
          "base_uri": "https://localhost:8080/",
          "height": 278
        },
        "id": "vdD8Bwb7PQul",
        "outputId": "de4763dc-f6d5-41d3-c586-34dbb41045f5"
      },
      "execution_count": null,
      "outputs": [
        {
          "output_type": "display_data",
          "data": {
            "text/plain": [
              "<Figure size 432x288 with 1 Axes>"
            ],
            "image/png": "[encoded data removed]"
          },
          "metadata": {
            "needs_background": "light"
          }
        }
      ]
    }
  ],
  "metadata": {
    "colab": {
      "provenance": [],
      "include_colab_link": true
    },
    "kernelspec": {
      "display_name": "Python 3",
      "language": "python",
      "name": "python3"
    },
    "language_info": {
      "codemirror_mode": {
        "name": "ipython",
        "version": 3
      },
      "file_extension": ".py",
      "mimetype": "text/x-python",
      "name": "python",
      "nbconvert_exporter": "python",
      "pygments_lexer": "ipython3",
      "version": "3.7.6"
    }
  },
  "nbformat": 4,
  "nbformat_minor": 0
}