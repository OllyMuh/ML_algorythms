{
  "cells": [
    {
      "cell_type": "markdown",
      "metadata": {
        "id": "view-in-github",
        "colab_type": "text"
      },
      "source": [
        "<a href=\"https://colab.research.google.com/github/OllyMuh/ML_algorythms/blob/main/HW_1_algorithms_ML.ipynb\" target=\"_parent\"><img src=\"https://colab.research.google.com/assets/colab-badge.svg\" alt=\"Open In Colab\"/></a>"
      ]
    },
    {
      "cell_type": "markdown",
      "metadata": {
        "id": "Kw01g10zBjZr"
      },
      "source": [
        "## Домашнее задание 1. Алгоритм линейной регрессии. Градиентный спуск"
      ]
    },
    {
      "cell_type": "code",
      "execution_count": null,
      "metadata": {
        "id": "ak8b3KV45kVW"
      },
      "outputs": [],
      "source": [
        "import numpy as np\n",
        "import matplotlib.pyplot as plt"
      ]
    },
    {
      "cell_type": "code",
      "execution_count": null,
      "metadata": {
        "id": "JTSC2cFnCd8T"
      },
      "outputs": [],
      "source": [
        "# функции расчета ошибок регрессии\n",
        "\n",
        "# средняя абсолютная ошибка\n",
        "# MAE (Mean Absolute Error)\n",
        "def calc_mae(y, y_pred):\n",
        "    err = np.mean(np.abs(y - y_pred))\n",
        "    return err\n",
        "\n",
        "# средквадратичная ошибка\n",
        "# MSE (Mean Squared Error)\n",
        "def calc_mse(y, y_pred):\n",
        "    err = np.mean((y - y_pred)**2) # <=> 1/n * np.sum((y_pred - y)**2)\n",
        "    return err"
      ]
    },
    {
      "cell_type": "markdown",
      "source": [
        "__Задача:__ предсказание баллов ЕГЭ ученика в зависимости от количества лет стажа его репетитора"
      ],
      "metadata": {
        "id": "xr7nx5XacRfU"
      }
    },
    {
      "cell_type": "code",
      "source": [
        "X = np.array([[1, 1, 1, 1, 1, 1, 1, 1, 1, 1],\n",
        "              [1, 1, 2, 5, 3, 0, 5, 10, 1, 2]])\n",
        "X"
      ],
      "metadata": {
        "colab": {
          "base_uri": "https://localhost:8080/"
        },
        "id": "D8pcyqlAb4NO",
        "outputId": "8042a983-5ace-44ec-fc61-bac39ab196f4"
      },
      "execution_count": null,
      "outputs": [
        {
          "output_type": "execute_result",
          "data": {
            "text/plain": [
              "array([[ 1,  1,  1,  1,  1,  1,  1,  1,  1,  1],\n",
              "       [ 1,  1,  2,  5,  3,  0,  5, 10,  1,  2]])"
            ]
          },
          "metadata": {},
          "execution_count": 3
        }
      ]
    },
    {
      "cell_type": "code",
      "source": [
        "y = [45, 55, 50, 55, 60, 35, 75, 80, 50, 60]"
      ],
      "metadata": {
        "id": "tfkS-d5JcC2o"
      },
      "execution_count": null,
      "outputs": []
    },
    {
      "cell_type": "markdown",
      "metadata": {
        "id": "huXrhXQsZTMt"
      },
      "source": [
        "# Задача 1. \n",
        "Подберите скорость обучения (alpha) и количество итераций."
      ]
    },
    {
      "cell_type": "code",
      "execution_count": null,
      "metadata": {
        "colab": {
          "base_uri": "https://localhost:8080/"
        },
        "id": "IDB22MQKMYaJ",
        "outputId": "1f2ee6e3-074f-43b5-c922-74ddba015ec0"
      },
      "outputs": [
        {
          "output_type": "stream",
          "name": "stdout",
          "text": [
            "Number of objects = 10        \n",
            "Learning rate = 0.1        \n",
            "Initial weights = [1.  0.5] \n",
            "\n",
            "Iteration #0: W_new = [11.8 38.2], MSE = 3047.75\n",
            "Iteration #10: W_new = [12651.73553914 69617.0969639 ], MSE = 18310954068.05\n",
            "Iteration #20: W_new = [ 7732434.81888022 42641607.3785219 ], MSE = 9128819654907584.0\n",
            "Iteration #30: W_new = [1.06344502e+09 5.86454589e+09], MSE = 2.3279203642668515e+20\n",
            "Iteration #40: W_new = [3.00127077e+10 1.65510116e+11], MSE = 2.5451335298159486e+23\n",
            "Iteration #50: W_new = [1.55345341e+11 8.56677968e+11], MSE = 9.572295620500124e+24\n",
            "Iteration #60: W_new = [1.27742291e+11 7.04456313e+11], MSE = 9.351480126476035e+24\n",
            "Iteration #70: W_new = [1.38141953e+10 7.61806995e+10], MSE = 1.6408589528283986e+23\n",
            "Iteration #80: W_new = [1.51674189e+08 8.36432543e+08], MSE = 3.125533537874479e+19\n",
            "Iteration #90: W_new = [116395.49978363 641638.79866064], MSE = 31317286806394.58\n",
            "Iteration #100: W_new = [48.41959619 22.99885147], MSE = 53518.86\n",
            "Iteration #110: W_new = [44.97711111  3.82799209], MSE = 43.97\n",
            "Iteration #120: W_new = [44.99891751  3.8240297 ], MSE = 43.97\n",
            "Iteration #130: W_new = [45.01385183  3.8213216 ], MSE = 43.97\n",
            "Iteration #140: W_new = [45.02434994  3.81941793], MSE = 43.97\n"
          ]
        }
      ],
      "source": [
        "n = X.shape[1]\n",
        "alpha = 1e-1\n",
        "# изменила на 1е-1\n",
        "W = np.array([1, 0.5])\n",
        "print(f'Number of objects = {n} \\\n",
        "       \\nLearning rate = {alpha} \\\n",
        "       \\nInitial weights = {W} \\n')\n",
        "\n",
        "for i in range(150):\n",
        "  # изменила с 100 на 150, т.к. при изменении на 1000 или на 10000 разницы особо нет\n",
        "    y_pred = np.dot(W, X)\n",
        "    err = calc_mse(y, y_pred)\n",
        "    for k in range(W.shape[0]):\n",
        "        W[k] -= alpha * (1/n * 2 * np.sum(X[k] * (y_pred - y)))\n",
        "    if i % 10 == 0:\n",
        "        alpha /= 1.1\n",
        "        print(f'Iteration #{i}: W_new = {W}, MSE = {round(err,2)}')"
      ]
    },
    {
      "cell_type": "code",
      "execution_count": null,
      "metadata": {
        "colab": {
          "base_uri": "https://localhost:8080/",
          "height": 264
        },
        "id": "OTikrodr6n-i",
        "outputId": "593c647d-50a3-495b-c8d8-a8ab7c376fa0"
      },
      "outputs": [
        {
          "output_type": "display_data",
          "data": {
            "text/plain": [
              "<Figure size 432x288 with 1 Axes>"
            ],
            "image/png": "[encoded data removed]"
          },
          "metadata": {
            "needs_background": "light"
          }
        }
      ],
      "source": [
        "plt.scatter(X[1], y)\n",
        "plt.plot(X[1], y_pred, label='1')\n",
        "plt.legend()\n",
        "plt.show()"
      ]
    },
    {
      "cell_type": "markdown",
      "metadata": {
        "id": "5Qu1o4JhZYwI"
      },
      "source": [
        "# Задача *2. \n",
        "В этом коде мы избавляемся от итераций по весам, но здесь есть ошибка, исправьте её.\n"
      ]
    },
    {
      "cell_type": "code",
      "execution_count": null,
      "metadata": {
        "colab": {
          "base_uri": "https://localhost:8080/"
        },
        "id": "WZZzDCQLY4pA",
        "outputId": "0b9e7c20-fc81-44aa-fdcc-dfb0a7d35a37"
      },
      "outputs": [
        {
          "output_type": "stream",
          "name": "stdout",
          "text": [
            "Number of objects = 10        \n",
            "Learning rate = 0.01        \n",
            "Initial weights = [1.  0.5] \n",
            "\n",
            "Iteration #0: W_new = [2.08 4.27], MSE = 3047.75\n",
            "Iteration #10: W_new = [ 7.0011236 10.6169007], MSE = 738.65\n",
            "Iteration #20: W_new = [10.3486292  10.10603105], MSE = 622.03\n",
            "Iteration #30: W_new = [13.38789582  9.55618391], MSE = 525.24\n",
            "Iteration #40: W_new = [16.16088505  9.05336203], MSE = 444.66\n",
            "Iteration #50: W_new = [18.69110735  8.59454545], MSE = 377.58\n",
            "Iteration #60: W_new = [20.99981865  8.17589626], MSE = 321.72\n",
            "Iteration #70: W_new = [23.10641138  7.79389815], MSE = 275.22\n",
            "Iteration #80: W_new = [25.02858024  7.44534246], MSE = 236.5\n",
            "Iteration #90: W_new = [26.78247081  7.12730145], MSE = 204.27\n"
          ]
        }
      ],
      "source": [
        "n = X.shape[1]\n",
        "alpha = 1e-2\n",
        "W = np.array([1, 0.5])\n",
        "print(f'Number of objects = {n} \\\n",
        "       \\nLearning rate = {alpha} \\\n",
        "       \\nInitial weights = {W} \\n')\n",
        "\n",
        "for i in range(100):\n",
        "    y_pred = np.dot(W, X)\n",
        "    err = calc_mse(y, y_pred)\n",
        "#     for k in range(W.shape[0]):\n",
        "        # W[k] -= alpha * (1/n * 2 * np.sum(X[k] * (y_pred - y)))\n",
        "    # исправила с помощью матричных операций\n",
        "    for j in range(len(W)):\n",
        "      W[j] -= alpha * (1/n * 2 * np.sum(X[j] * (y_pred - y)))\n",
        "    W_pred = W\n",
        "    if i % 10 == 0:\n",
        "        print(f'Iteration #{i}: W_new = {W}, MSE = {round(err,2)}')"
      ]
    },
    {
      "cell_type": "markdown",
      "metadata": {
        "id": "dNd19yVmBjaR"
      },
      "source": [
        "# Задача *3. \n",
        "Вместо того чтобы задавать количество итераций, задайте условие остановки алгоритма, когда ошибка за итерацию начинает изменяться ниже определённого порога — упрощённый аналог параметра tol в линейной регрессии в sklearn."
      ]
    },
    {
      "cell_type": "code",
      "execution_count": null,
      "metadata": {
        "collapsed": true,
        "id": "VjV39BwKBjaR"
      },
      "outputs": [],
      "source": [
        "n = X.shape[1]\n",
        "alpha = 1e-1\n",
        "W = np.array([1, 0.5])\n",
        "W_pred = np.array([0, 0])\n",
        "\n",
        "# инициализируем число итераций\n",
        "iter_num = 0\n",
        "# максимальное число итераций\n",
        "max_iter = 1e4\n",
        "\n",
        "# зададим начальную разницу весов большим числом\n",
        "weight_dist = np.inf\n",
        "# критерий сходимости (разница весов, при которой алгоритм останавливается)\n",
        "min_weight_dist = 1e-8\n",
        "\n",
        "while weight_dist > min_weight_dist and iter_num < max_iter:\n",
        "    y_pred = np.dot(W, X)\n",
        "    err = calc_mse(y, y_pred)\n",
        "    for k in range(W.shape[0]):\n",
        "      W_pred[k] -= alpha * (1/n * 2 * np.sum(X[k] * (y_pred - y)))\n",
        "      weight_dist = abs(W[k]- W_pred[k])\n",
        "\n",
        "    print(f'Iteration #{iter_num}: W_new = {W}, MSE = {round(err,2)}')\n",
        "    print(weight_dist)\n",
        "    iter_num += 1\n",
        "    W_pred = W\n",
        "\n",
        "\n",
        "# не получается. Доходит только до второй итерации((("
      ]
    },
    {
      "cell_type": "markdown",
      "source": [
        "Добрый день!\n",
        "В задании 2 необходимо было заменить цикл на матричные операции: ваше решение возможно, когда у вас 2 веса, но если их будет 100, то, к сожалению, так расписывать каждый будет затратно. С помощью матричных операций можно за одну строку обновлять сразу все веса.\n",
        "В вашем задании 3 у вас следующая концептуальная ошибка: вы не сохраняете все разности между весами, а оставляете только разность между последним по порядку весом (так как вы в цикле каждый раз перезаписываете переменную weight_dist). Кроме того, у вас алгоритм выходит сразу из цикла, так как вы запутались с переменными W и W_pred: вы должны сохранять предыдущее значение веса в W_pred, а обновлять именно W, но у вас это не происходит."
      ],
      "metadata": {
        "id": "Zt4Bu56p_2wc"
      }
    }
  ],
  "metadata": {
    "colab": {
      "provenance": [],
      "include_colab_link": true
    },
    "kernelspec": {
      "display_name": "Python 3",
      "language": "python",
      "name": "python3"
    },
    "language_info": {
      "codemirror_mode": {
        "name": "ipython",
        "version": 3
      },
      "file_extension": ".py",
      "mimetype": "text/x-python",
      "name": "python",
      "nbconvert_exporter": "python",
      "pygments_lexer": "ipython3",
      "version": "3.7.6"
    }
  },
  "nbformat": 4,
  "nbformat_minor": 0
}
