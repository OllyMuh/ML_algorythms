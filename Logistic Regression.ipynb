{
  "cells": [
    {
      "cell_type": "markdown",
      "metadata": {
        "id": "view-in-github",
        "colab_type": "text"
      },
      "source": [
        "<a href=\"https://colab.research.google.com/github/OllyMuh/ML_algorythms/blob/main/Logistic%20Regression.ipynb\" target=\"_parent\"><img src=\"https://colab.research.google.com/assets/colab-badge.svg\" alt=\"Open In Colab\"/></a>"
      ]
    },
    {
      "cell_type": "markdown",
      "metadata": {
        "id": "-h6E40fAWNJT"
      },
      "source": [
        "# **ДЗ 3. Классификация. Логистическая регрессия**"
      ]
    },
    {
      "cell_type": "markdown",
      "metadata": {
        "id": "MW4rVurIWNKE"
      },
      "source": [
        "## Практическое задание"
      ]
    },
    {
      "cell_type": "markdown",
      "metadata": {
        "id": "OrKTLjzpWNKF"
      },
      "source": [
        "1. Измените функцию calc_logloss так, чтобы нули по возможности не попадали в np.log.\n",
        "2. Подберите аргументы функции eval_model для логистической регрессии таким образом, чтобы log loss был минимальным.\n",
        "3. Создайте функцию calc_pred_proba, возвращающую предсказанную вероятность класса 1. На вход подаётся W, который уже посчитан функцией eval_model, и X, на выходе — массив y_pred_proba.\n",
        "4. Создайте функцию calc_pred, возвращающую предсказанный класс. На вход подаётся W, который уже посчитан функцией eval_model, и X, на выходе — массив y_pred.\n",
        "5. Посчитайте Accuracy, матрицу ошибок, точность и полноту, а также F1 score.\n",
        "6. Могла ли модель переобучиться? Почему?"
      ]
    },
    {
      "cell_type": "code",
      "execution_count": null,
      "metadata": {
        "collapsed": true,
        "id": "zhwkeWtb1O0w"
      },
      "outputs": [],
      "source": [
        "import numpy as np\n",
        "import matplotlib.pyplot as plt"
      ]
    },
    {
      "cell_type": "code",
      "execution_count": null,
      "metadata": {
        "collapsed": true,
        "id": "FeKFn2yb1To4"
      },
      "outputs": [],
      "source": [
        "X = np.array([[1, 1, 1, 1, 1, 1, 1, 1, 1, 1],\n",
        "              [1, 1, 2, 5, 3, 0, 5, 10, 1, 2],\n",
        "              [500, 700, 750, 600, 1450, 800, 1500, 2000, 450, 1000],\n",
        "              [1, 1, 2, 1, 2,  1, 3, 3, 1, 2]], dtype = np.float64)\n",
        "y = np.array([0, 0, 1, 0, 1, 0, 1, 0, 1, 1], dtype = np.float64)"
      ]
    },
    {
      "cell_type": "code",
      "execution_count": null,
      "metadata": {
        "colab": {
          "base_uri": "https://localhost:8080/"
        },
        "id": "yXSj4nbxHsFd",
        "outputId": "4cf80b97-407a-4ea0-9c53-478b088f197b"
      },
      "outputs": [
        {
          "output_type": "execute_result",
          "data": {
            "text/plain": [
              "array([[1.00e+00, 1.00e+00, 1.00e+00, 1.00e+00, 1.00e+00, 1.00e+00,\n",
              "        1.00e+00, 1.00e+00, 1.00e+00, 1.00e+00],\n",
              "       [1.00e+00, 1.00e+00, 2.00e+00, 5.00e+00, 3.00e+00, 0.00e+00,\n",
              "        5.00e+00, 1.00e+01, 1.00e+00, 2.00e+00],\n",
              "       [5.00e+02, 7.00e+02, 7.50e+02, 6.00e+02, 1.45e+03, 8.00e+02,\n",
              "        1.50e+03, 2.00e+03, 4.50e+02, 1.00e+03],\n",
              "       [1.00e+00, 1.00e+00, 2.00e+00, 1.00e+00, 2.00e+00, 1.00e+00,\n",
              "        3.00e+00, 3.00e+00, 1.00e+00, 2.00e+00]])"
            ]
          },
          "metadata": {},
          "execution_count": 3
        }
      ],
      "source": [
        "X"
      ]
    },
    {
      "cell_type": "code",
      "execution_count": null,
      "metadata": {
        "colab": {
          "base_uri": "https://localhost:8080/"
        },
        "id": "QU0A16vZHugZ",
        "outputId": "7b519420-7f34-4e40-d87c-0022e92883bd"
      },
      "outputs": [
        {
          "output_type": "execute_result",
          "data": {
            "text/plain": [
              "array([0., 0., 1., 0., 1., 0., 1., 0., 1., 1.])"
            ]
          },
          "metadata": {},
          "execution_count": 4
        }
      ],
      "source": [
        "y"
      ]
    },
    {
      "cell_type": "code",
      "execution_count": null,
      "metadata": {
        "collapsed": true,
        "id": "M-aO1NTxOUfo"
      },
      "outputs": [],
      "source": [
        "def calc_std_feat(x):\n",
        "    res = (x - x.mean()) / x.std()\n",
        "    return res"
      ]
    },
    {
      "cell_type": "code",
      "execution_count": null,
      "metadata": {
        "collapsed": true,
        "id": "D8EL0iGJOVpe"
      },
      "outputs": [],
      "source": [
        "X_st = X.copy()\n",
        "X_st[2, :] = calc_std_feat(X[2, :])"
      ]
    },
    {
      "cell_type": "code",
      "execution_count": null,
      "metadata": {
        "colab": {
          "base_uri": "https://localhost:8080/"
        },
        "id": "gviMxz7EOuI3",
        "outputId": "39094229-6c72-45ae-f49b-68c0b40024a8"
      },
      "outputs": [
        {
          "output_type": "execute_result",
          "data": {
            "text/plain": [
              "array([[ 1.        ,  1.        ,  1.        ,  1.        ,  1.        ,\n",
              "         1.        ,  1.        ,  1.        ,  1.        ,  1.        ],\n",
              "       [ 1.        ,  1.        ,  2.        ,  5.        ,  3.        ,\n",
              "         0.        ,  5.        , 10.        ,  1.        ,  2.        ],\n",
              "       [-0.97958969, -0.56713087, -0.46401617, -0.77336028,  0.97958969,\n",
              "        -0.36090146,  1.08270439,  2.11385144, -1.08270439,  0.05155735],\n",
              "       [ 1.        ,  1.        ,  2.        ,  1.        ,  2.        ,\n",
              "         1.        ,  3.        ,  3.        ,  1.        ,  2.        ]])"
            ]
          },
          "metadata": {},
          "execution_count": 7
        }
      ],
      "source": [
        "X_st"
      ]
    },
    {
      "cell_type": "markdown",
      "source": [
        "**1. *Измените функцию calc_logloss так, чтобы нули по возможности не попадали в np.log.**"
      ],
      "metadata": {
        "id": "YDoaRpbWq1UX"
      }
    },
    {
      "cell_type": "code",
      "source": [
        "from numpy import errstate, isneginf"
      ],
      "metadata": {
        "id": "gMo6t6dYRbnd"
      },
      "execution_count": null,
      "outputs": []
    },
    {
      "cell_type": "code",
      "execution_count": null,
      "metadata": {
        "collapsed": true,
        "id": "qMR5pOA38dDw"
      },
      "outputs": [],
      "source": [
        "def calc_logloss(y, y_pred):\n",
        "    err = - np.mean(y * np.log(y_pred,  where=0<y_pred, out=0*y_pred) + (1.0 - y) * np.log(1.0 - y_pred, where=1>y_pred, out=1*y_pred))\n",
        "    # err = -np.mean(y * np.log(y_pred) + (1.0 - y) * np.log(1.0 - y_pred))\n",
        "    err = np.sum(err)\n",
        "    return err"
      ]
    },
    {
      "cell_type": "code",
      "execution_count": null,
      "metadata": {
        "colab": {
          "base_uri": "https://localhost:8080/"
        },
        "id": "R6zfOHMrBvnX",
        "outputId": "bda6936b-a380-4a70-b710-6c0fc1693eb6"
      },
      "outputs": [
        {
          "output_type": "execute_result",
          "data": {
            "text/plain": [
              "0.4428346889906787"
            ]
          },
          "metadata": {},
          "execution_count": 195
        }
      ],
      "source": [
        "# Пример применения\n",
        "y1 = np.array([1, 0, 2])\n",
        "y_pred1 = np.array([0.9, 0.2, 1])\n",
        "calc_logloss(y1, y_pred1)"
      ]
    },
    {
      "cell_type": "code",
      "execution_count": null,
      "metadata": {
        "collapsed": true,
        "id": "EEF9rWPNDnss"
      },
      "outputs": [],
      "source": [
        "def sigmoid(z):\n",
        "    res = 1 / (1 + np.exp(-z))\n",
        "    return res"
      ]
    },
    {
      "cell_type": "code",
      "execution_count": null,
      "metadata": {
        "collapsed": true,
        "id": "_9tN8lBEEeXU"
      },
      "outputs": [],
      "source": [
        "z = np.linspace(-10, 10, 101)"
      ]
    },
    {
      "cell_type": "code",
      "execution_count": null,
      "metadata": {
        "collapsed": true,
        "id": "nvIe3RpbEp4l"
      },
      "outputs": [],
      "source": [
        "probabilities = sigmoid(z)"
      ]
    },
    {
      "cell_type": "code",
      "execution_count": null,
      "metadata": {
        "colab": {
          "base_uri": "https://localhost:8080/",
          "height": 283
        },
        "id": "jQsCfht0Et1V",
        "outputId": "0c11fcdd-1cf9-49db-aaa7-4fa520ff840a"
      },
      "outputs": [
        {
          "data": {
            "image/png": "[encoded data removed]",
            "text/plain": [
              "<matplotlib.figure.Figure at 0x11dc1e860>"
            ]
          },
          "metadata": {},
          "output_type": "display_data"
        }
      ],
      "source": [
        "plt.plot(z, probabilities)\n",
        "plt.show()"
      ]
    },
    {
      "cell_type": "markdown",
      "source": [
        "**2. Подберите аргументы функции eval_model для логистической регрессии таким образом, чтобы log loss был минимальным.**"
      ],
      "metadata": {
        "id": "rXpWWDka38pj"
      }
    },
    {
      "cell_type": "markdown",
      "source": [
        "Logistic Regression"
      ],
      "metadata": {
        "id": "RatB5rU152aJ"
      }
    },
    {
      "cell_type": "code",
      "execution_count": null,
      "metadata": {
        "collapsed": true,
        "id": "qtgUN3LW-UIq"
      },
      "outputs": [],
      "source": [
        "def eval_model(X, y, iterations, alpha=1e-4):\n",
        "    np.random.seed(42)\n",
        "    W = np.random.randn(X.shape[0])\n",
        "    n = X.shape[1]\n",
        "    for i in range(1, iterations+1):\n",
        "        z = np.dot(W, X)\n",
        "        y_pred = sigmoid(z)\n",
        "        err = calc_logloss(y, y_pred)\n",
        "        W -= alpha * (1/n * np.dot((y_pred - y), X.T))\n",
        "        if i % (iterations / 10) == 0:\n",
        "            print(i, W, err)\n",
        "    return W"
      ]
    },
    {
      "cell_type": "code",
      "execution_count": null,
      "metadata": {
        "colab": {
          "base_uri": "https://localhost:8080/"
        },
        "id": "oqX7loklBmYZ",
        "outputId": "8bbe85c2-35b6-4f00-93bd-f19e5b633f83"
      },
      "outputs": [
        {
          "output_type": "stream",
          "name": "stdout",
          "text": [
            "1000 [-23.42469498  -2.47415836  -6.13383009  19.51328768] 0.1505432366507139\n",
            "2000 [-29.7273558   -3.06490624  -7.94230071  24.53028455] 0.12537353706992074\n",
            "3000 [-34.39843897  -3.48572045  -9.26052321  28.30439472] 0.11264867258267912\n",
            "4000 [-38.20421029  -3.82444202 -10.33397168  31.36555856] 0.10425083847854826\n",
            "5000 [-41.46890563  -4.11024348 -11.25720123  33.9788117 ] 0.09809968927884229\n",
            "6000 [-44.36562413  -4.35893251 -12.07988492  36.28573529] 0.09327703268157721\n",
            "7000 [-46.99704183  -4.57999229 -12.83113535  38.37038941] 0.08931280007109313\n",
            "8000 [-49.42875689  -4.77955821 -13.52935463  40.28658216] 0.08594011279832246\n",
            "9000 [-51.70502492  -4.96184506 -14.18681893  42.07074581] 0.08299550560295448\n",
            "10000 [-53.85695151  -5.12989737 -14.81204311  43.74864006] 0.08037290928115966\n"
          ]
        }
      ],
      "source": [
        "W = eval_model(X_st, y, iterations=10000, alpha=3)\n",
        "# изменила iterations с 5000 на 10000, alpha на 3"
      ]
    },
    {
      "cell_type": "markdown",
      "source": [
        "**3. Создайте функцию calc_pred_proba, возвращающую предсказанную вероятность класса 1. На вход подаётся W, который уже посчитан функцией eval_model, и X, на выходе — массив y_pred_proba.**"
      ],
      "metadata": {
        "id": "a5sWrEXe5d9D"
      }
    },
    {
      "cell_type": "code",
      "execution_count": null,
      "metadata": {
        "collapsed": true,
        "id": "jp0AQlnkRBWC"
      },
      "outputs": [],
      "source": [
        "def calc_pred_proba(W, X):\n",
        "  m = X.shape[1]\n",
        "  w = W.reshape(X.shape[0], 1)\n",
        "  y_pred_proba = sigmoid(np.dot(w.T, X))\n",
        "  return y_pred_proba"
      ]
    },
    {
      "cell_type": "code",
      "source": [
        "calc_pred_proba(W, X_st)"
      ],
      "metadata": {
        "colab": {
          "base_uri": "https://localhost:8080/"
        },
        "id": "nPyE2Eai9hnR",
        "outputId": "698e1b3b-db49-4d5f-9b19-2384fecb31d8"
      },
      "execution_count": null,
      "outputs": [
        {
          "output_type": "execute_result",
          "data": {
            "text/plain": [
              "array([[3.25527468e-01, 1.07126647e-03, 1.00000000e+00, 2.78900123e-11,\n",
              "        9.76817718e-01, 8.47080042e-03, 1.00000000e+00, 5.37576778e-03,\n",
              "        6.89729574e-01, 1.00000000e+00]])"
            ]
          },
          "metadata": {},
          "execution_count": 77
        }
      ]
    },
    {
      "cell_type": "markdown",
      "source": [
        "**4. Создайте функцию calc_pred, возвращающую предсказанный класс. На вход подаётся W, который уже посчитан функцией eval_model, и X, на выходе — массив y_pred.**"
      ],
      "metadata": {
        "id": "ypYn9FcG7nFf"
      }
    },
    {
      "cell_type": "code",
      "source": [
        "def calc_pred(W, X):\n",
        "  m = X.shape[1]\n",
        "  y_pred = np.zeros((1, m))\n",
        "  w = W.reshape(X.shape[0], 1)\n",
        "  A = sigmoid(np.dot(w.T, X))\n",
        "  for i in range(A.shape[1]):\n",
        "        if (A[:,i] > 0.5): \n",
        "            y_pred[:, i] = 1\n",
        "        elif (A[:,i] <= 0.5):\n",
        "            y_pred[:, i] = 0 \n",
        "  return y_pred"
      ],
      "metadata": {
        "id": "WjM9uYiU7uaJ"
      },
      "execution_count": null,
      "outputs": []
    },
    {
      "cell_type": "code",
      "source": [
        "y_pred = calc_pred(W, X_st)"
      ],
      "metadata": {
        "id": "ybTO0cOs_W5b"
      },
      "execution_count": null,
      "outputs": []
    },
    {
      "cell_type": "markdown",
      "source": [
        "**5.Посчитайте Accuracy, матрицу ошибок, точность и полноту, а также F1 score.**"
      ],
      "metadata": {
        "id": "3PTWdEJU74Rt"
      }
    },
    {
      "cell_type": "code",
      "source": [
        "# функция для расчета accuracy\n",
        "def calc_accuracy(y, y_pred):\n",
        "  return np.sum(np.equal(y, y_pred)) / len(y)"
      ],
      "metadata": {
        "id": "Hj9UZGdiBbAP"
      },
      "execution_count": null,
      "outputs": []
    },
    {
      "cell_type": "code",
      "source": [
        "calc_accuracy(y, y_pred)"
      ],
      "metadata": {
        "colab": {
          "base_uri": "https://localhost:8080/"
        },
        "id": "tPAdXgKFCYnm",
        "outputId": "cdfe4a52-b98d-4eb2-bfe5-1ceb23a24d45"
      },
      "execution_count": null,
      "outputs": [
        {
          "output_type": "execute_result",
          "data": {
            "text/plain": [
              "1.0"
            ]
          },
          "metadata": {},
          "execution_count": 82
        }
      ]
    },
    {
      "cell_type": "code",
      "source": [
        "# функция для расчета матрицы ошибок\n",
        "def conf_matrix(y, y_pred):\n",
        "  classes = np.unique(y)\n",
        "  matrix = np.zeros((len(classes), len(classes)))\n",
        "  for i in range(len(classes)):\n",
        "    for j in range(len(classes)):\n",
        "      matrix[i, j] = np.sum((y == classes[i]) & (y_pred == classes[j] ))\n",
        "  return matrix"
      ],
      "metadata": {
        "id": "5RxYI8i_DG0w"
      },
      "execution_count": null,
      "outputs": []
    },
    {
      "cell_type": "code",
      "source": [
        "matr = conf_matrix(y, y_pred)"
      ],
      "metadata": {
        "id": "DcyIDdTYEN0Q"
      },
      "execution_count": null,
      "outputs": []
    },
    {
      "cell_type": "code",
      "source": [
        "# функция для расчета точности (precision)\n",
        "def precision(y, y_pred):\n",
        "  matrix = conf_matrix(y, y_pred)\n",
        "  return matrix[0, 0] / (matrix[0, 0] + matrix[0, 1])\n"
      ],
      "metadata": {
        "id": "z5vL1IzqGA8y"
      },
      "execution_count": null,
      "outputs": []
    },
    {
      "cell_type": "code",
      "source": [
        "precision = precision(y, y_pred)\n",
        "precision"
      ],
      "metadata": {
        "colab": {
          "base_uri": "https://localhost:8080/"
        },
        "id": "cSiqGWUnG5o6",
        "outputId": "2db7f40a-652a-4a0e-fd17-9af3efe084e8"
      },
      "execution_count": null,
      "outputs": [
        {
          "output_type": "execute_result",
          "data": {
            "text/plain": [
              "1.0"
            ]
          },
          "metadata": {},
          "execution_count": 137
        }
      ]
    },
    {
      "cell_type": "code",
      "source": [
        "# функция для расчета полноты (recall)\n",
        "def recall(y, y_pred):\n",
        "  matrix = conf_matrix(y, y_pred)\n",
        "  return matrix[0,0] / (matrix[0, 0] + matrix[1, 0])"
      ],
      "metadata": {
        "id": "Mu5zzkTXHANX"
      },
      "execution_count": null,
      "outputs": []
    },
    {
      "cell_type": "code",
      "source": [
        "recall = recall(y, y_pred)\n",
        "recall"
      ],
      "metadata": {
        "colab": {
          "base_uri": "https://localhost:8080/"
        },
        "id": "6grVMXmYHYgB",
        "outputId": "8c99647f-8337-49ac-8f9f-118e39fe911f"
      },
      "execution_count": null,
      "outputs": [
        {
          "output_type": "execute_result",
          "data": {
            "text/plain": [
              "1.0"
            ]
          },
          "metadata": {},
          "execution_count": 139
        }
      ]
    },
    {
      "cell_type": "code",
      "source": [
        "# функция для расчета F1-score\n",
        "def f1(precision, recall):\n",
        "  return (2 * precision * recall) / (precision + recall)"
      ],
      "metadata": {
        "id": "fftNIspEKAhw"
      },
      "execution_count": null,
      "outputs": []
    },
    {
      "cell_type": "code",
      "source": [
        "f1(precision, recall)"
      ],
      "metadata": {
        "colab": {
          "base_uri": "https://localhost:8080/"
        },
        "id": "YBb235AOOH8j",
        "outputId": "7454b1e9-8f59-4393-bc69-e0e1c95906e4"
      },
      "execution_count": null,
      "outputs": [
        {
          "output_type": "execute_result",
          "data": {
            "text/plain": [
              "1.0"
            ]
          },
          "metadata": {},
          "execution_count": 142
        }
      ]
    },
    {
      "cell_type": "code",
      "source": [
        "y.shape, y_pred.shape"
      ],
      "metadata": {
        "colab": {
          "base_uri": "https://localhost:8080/"
        },
        "id": "07-0qu-9MMIX",
        "outputId": "d0fe2a3f-b159-4ffc-bd03-551b6542f9a8"
      },
      "execution_count": null,
      "outputs": [
        {
          "output_type": "execute_result",
          "data": {
            "text/plain": [
              "((10,), (1, 10))"
            ]
          },
          "metadata": {},
          "execution_count": 140
        }
      ]
    },
    {
      "cell_type": "code",
      "source": [
        "y_pred = y_pred.T"
      ],
      "metadata": {
        "id": "u6yZAUduMgJ8"
      },
      "execution_count": null,
      "outputs": []
    },
    {
      "cell_type": "code",
      "source": [
        "from sklearn.metrics import classification_report\n",
        "print(classification_report(y, y_pred))"
      ],
      "metadata": {
        "colab": {
          "base_uri": "https://localhost:8080/"
        },
        "id": "UWW1hfeAKkMz",
        "outputId": "df62f351-f9fc-40c1-d279-0b9946d89ac6"
      },
      "execution_count": null,
      "outputs": [
        {
          "output_type": "stream",
          "name": "stdout",
          "text": [
            "              precision    recall  f1-score   support\n",
            "\n",
            "         0.0       1.00      1.00      1.00         5\n",
            "         1.0       1.00      1.00      1.00         5\n",
            "\n",
            "    accuracy                           1.00        10\n",
            "   macro avg       1.00      1.00      1.00        10\n",
            "weighted avg       1.00      1.00      1.00        10\n",
            "\n"
          ]
        }
      ]
    },
    {
      "cell_type": "markdown",
      "source": [
        "**6. Могла ли модель переобучиться? Почему?**"
      ],
      "metadata": {
        "id": "bYRf2HzW8C3k"
      }
    },
    {
      "cell_type": "markdown",
      "source": [
        "Могла переобучиться, так как выборка маленькая (10 наблюдений). Если ее разбить на train и test, то при минимизации ошибок (подгонке) train, тестовой выборке не зватит вариантов наблюдений, чтобы соответствовать хотя бы примерно.\n",
        "\n",
        "Мы сейчас просто сделали максимально подходящую под выборку модель."
      ],
      "metadata": {
        "id": "BxAQlST1WHKK"
      }
    },
    {
      "cell_type": "markdown",
      "source": [
        "Здравствуйте.\n",
        "По первому заданию - ваша модификация логарифма приводит к фактическому изменению функции потерь: при стремлении значения под логарифмом к 0 сам логарифм начинается стремиться к минус бесконечности, поэтому использовать в таком случае в качестве предсказания y_pred некорректно. Обычно в таком случае поступают следующим образом - внутрь логарифма добавляют маленькое число, например, +1е-5. В таком случае не происходит ошибки, связанной с нулём, при этом получаемое значение функции потерь лучше отражает реально происходящие закономерности.\n",
        "По второму заданию - не увидел непосредственно процесс подбора параметров. Кроме того, скорее всего не стоило идти в итерации 9000-10000, так как мы потратили 1000 итераций (10%), при этом получили совсем небольшое изменение ошибки.\n",
        "В четвертом задании лучше вводить порог как параметр функции, а не делать его по умолчанию 0.5 и прописывать внутри нее.\n",
        "В шестом задании стоило также отметить подозрительно высокие значения материк качества."
      ],
      "metadata": {
        "id": "UZv7ccFgHAYF"
      }
    }
  ],
  "metadata": {
    "colab": {
      "provenance": [],
      "include_colab_link": true
    },
    "kernelspec": {
      "display_name": "Python 3",
      "language": "python",
      "name": "python3"
    },
    "language_info": {
      "codemirror_mode": {
        "name": "ipython",
        "version": 3
      },
      "file_extension": ".py",
      "mimetype": "text/x-python",
      "name": "python",
      "nbconvert_exporter": "python",
      "pygments_lexer": "ipython3",
      "version": "3.7.6"
    }
  },
  "nbformat": 4,
  "nbformat_minor": 0
}