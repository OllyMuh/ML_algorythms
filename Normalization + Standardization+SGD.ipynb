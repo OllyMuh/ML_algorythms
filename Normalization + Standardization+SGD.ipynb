{
  "cells": [
    {
      "cell_type": "markdown",
      "metadata": {
        "id": "view-in-github",
        "colab_type": "text"
      },
      "source": [
        "<a href=\"https://colab.research.google.com/github/OllyMuh/ML_algorythms/blob/main/Normalization%20%2B%20Standardization%2BSGD.ipynb\" target=\"_parent\"><img src=\"https://colab.research.google.com/assets/colab-badge.svg\" alt=\"Open In Colab\"/></a>"
      ]
    },
    {
      "cell_type": "markdown",
      "metadata": {
        "id": "kaGU7KeR6rzi"
      },
      "source": [
        "# **ДЗ 2. Масштабирование признаков. Регуляризация. Стохастический градиентный спуск**"
      ]
    },
    {
      "cell_type": "markdown",
      "source": [
        "https://habr.com/ru/post/527334/\n",
        "\n",
        "https://wiki.loginom.ru/articles/data-normalization.html\n",
        "\n",
        "https://wiki.loginom.ru/articles/data-standartization.html"
      ],
      "metadata": {
        "id": "xWKpywl0syzD"
      }
    },
    {
      "cell_type": "code",
      "execution_count": null,
      "metadata": {
        "collapsed": true,
        "id": "_u5bV-OlT34p"
      },
      "outputs": [],
      "source": [
        "import numpy as np\n",
        "import matplotlib.pyplot as plt"
      ]
    },
    {
      "cell_type": "code",
      "execution_count": null,
      "metadata": {
        "collapsed": true,
        "id": "_n6il-AZaLuA"
      },
      "outputs": [],
      "source": [
        "X = np.array([[1, 1, 1, 1, 1, 1, 1, 1, 1, 1],\n",
        "              [1, 1, 2, 5, 3, 0, 5, 10, 1, 2],\n",
        "              [500, 700, 750, 600, 1450, 800, 1500, 2000, 450, 1000],\n",
        "              [1, 1, 2, 1, 2, 1, 3, 3, 1, 2]])"
      ]
    },
    {
      "cell_type": "code",
      "execution_count": null,
      "metadata": {
        "collapsed": true,
        "id": "x8yoci01ni-t"
      },
      "outputs": [],
      "source": [
        "y = [45, 55, 50, 55, 60, 35, 75, 80, 50, 60]"
      ]
    },
    {
      "cell_type": "markdown",
      "metadata": {
        "id": "shECgzyW6rz5"
      },
      "source": [
        "# **Нормализация [0, 1]**"
      ]
    },
    {
      "cell_type": "code",
      "execution_count": null,
      "metadata": {
        "colab": {
          "base_uri": "https://localhost:8080/"
        },
        "id": "Ei5qeZO_aT6m",
        "outputId": "c124e1f3-3dec-4799-90bd-f162e3d13ad1"
      },
      "outputs": [
        {
          "output_type": "execute_result",
          "data": {
            "text/plain": [
              "(0, 10)"
            ]
          },
          "metadata": {},
          "execution_count": 5
        }
      ],
      "source": [
        "X[1].min(), X[1].max()"
      ]
    },
    {
      "cell_type": "code",
      "execution_count": null,
      "metadata": {
        "colab": {
          "base_uri": "https://localhost:8080/"
        },
        "id": "L7wsW1Q7b4Ts",
        "outputId": "91a31b4b-55b6-4269-df3a-a122379288f2"
      },
      "outputs": [
        {
          "output_type": "execute_result",
          "data": {
            "text/plain": [
              "(450, 2000)"
            ]
          },
          "metadata": {},
          "execution_count": 6
        }
      ],
      "source": [
        "X[2].min(), X[2].max()"
      ]
    },
    {
      "cell_type": "code",
      "execution_count": null,
      "metadata": {
        "colab": {
          "base_uri": "https://localhost:8080/"
        },
        "id": "E55S9Bzob9Xa",
        "outputId": "58b74b96-39e6-4836-d8dd-7787cc5fd698"
      },
      "outputs": [
        {
          "output_type": "execute_result",
          "data": {
            "text/plain": [
              "array([[1.00e+00, 1.00e+00, 1.00e+00, 1.00e+00, 1.00e+00, 1.00e+00,\n",
              "        1.00e+00, 1.00e+00, 1.00e+00, 1.00e+00],\n",
              "       [1.00e+00, 1.00e+00, 2.00e+00, 5.00e+00, 3.00e+00, 0.00e+00,\n",
              "        5.00e+00, 1.00e+01, 1.00e+00, 2.00e+00],\n",
              "       [5.00e+02, 7.00e+02, 7.50e+02, 6.00e+02, 1.45e+03, 8.00e+02,\n",
              "        1.50e+03, 2.00e+03, 4.50e+02, 1.00e+03],\n",
              "       [1.00e+00, 1.00e+00, 2.00e+00, 1.00e+00, 2.00e+00, 1.00e+00,\n",
              "        3.00e+00, 3.00e+00, 1.00e+00, 2.00e+00]])"
            ]
          },
          "metadata": {},
          "execution_count": 7
        }
      ],
      "source": [
        "X_norm = X.copy()\n",
        "X_norm = X_norm.astype(np.float64)\n",
        "X_norm"
      ]
    },
    {
      "cell_type": "code",
      "execution_count": null,
      "metadata": {
        "colab": {
          "base_uri": "https://localhost:8080/"
        },
        "id": "7x-6IuPOcIo0",
        "outputId": "c14de735-a642-4874-980e-c486a6b7303e"
      },
      "outputs": [
        {
          "output_type": "execute_result",
          "data": {
            "text/plain": [
              "array([[1.00e+00, 1.00e+00, 1.00e+00, 1.00e+00, 1.00e+00, 1.00e+00,\n",
              "        1.00e+00, 1.00e+00, 1.00e+00, 1.00e+00],\n",
              "       [1.00e-01, 1.00e-01, 2.00e-01, 5.00e-01, 3.00e-01, 0.00e+00,\n",
              "        5.00e-01, 1.00e+00, 1.00e-01, 2.00e-01],\n",
              "       [5.00e+02, 7.00e+02, 7.50e+02, 6.00e+02, 1.45e+03, 8.00e+02,\n",
              "        1.50e+03, 2.00e+03, 4.50e+02, 1.00e+03],\n",
              "       [1.00e+00, 1.00e+00, 2.00e+00, 1.00e+00, 2.00e+00, 1.00e+00,\n",
              "        3.00e+00, 3.00e+00, 1.00e+00, 2.00e+00]])"
            ]
          },
          "metadata": {},
          "execution_count": 8
        }
      ],
      "source": [
        "X_norm[1] = (X[1] - X[1].min()) / (X[1].max() - X[1].min())\n",
        "X_norm"
      ]
    },
    {
      "cell_type": "code",
      "execution_count": null,
      "metadata": {
        "colab": {
          "base_uri": "https://localhost:8080/"
        },
        "id": "izkMRdXFcjyK",
        "outputId": "1bfb4707-d3cf-4d58-930a-eae1d2c6648c"
      },
      "outputs": [
        {
          "output_type": "execute_result",
          "data": {
            "text/plain": [
              "array([[1.        , 1.        , 1.        , 1.        , 1.        ,\n",
              "        1.        , 1.        , 1.        , 1.        , 1.        ],\n",
              "       [0.1       , 0.1       , 0.2       , 0.5       , 0.3       ,\n",
              "        0.        , 0.5       , 1.        , 0.1       , 0.2       ],\n",
              "       [0.03225806, 0.16129032, 0.19354839, 0.09677419, 0.64516129,\n",
              "        0.22580645, 0.67741935, 1.        , 0.        , 0.35483871],\n",
              "       [1.        , 1.        , 2.        , 1.        , 2.        ,\n",
              "        1.        , 3.        , 3.        , 1.        , 2.        ]])"
            ]
          },
          "metadata": {},
          "execution_count": 9
        }
      ],
      "source": [
        "X_norm[2] = (X[2] - X[2].min()) / (X[2].max() - X[2].min())\n",
        "X_norm"
      ]
    },
    {
      "cell_type": "markdown",
      "source": [
        "# **Стандартизация**"
      ],
      "metadata": {
        "id": "sn8sfvLbwWIO"
      }
    },
    {
      "cell_type": "code",
      "execution_count": null,
      "metadata": {
        "colab": {
          "base_uri": "https://localhost:8080/",
          "height": 264
        },
        "id": "8i9pB-3-fMD4",
        "outputId": "c67680e8-cad4-4fa1-e9de-19310a546c48"
      },
      "outputs": [
        {
          "output_type": "display_data",
          "data": {
            "text/plain": [
              "<Figure size 432x288 with 1 Axes>"
            ],
            "image/png": "[encoded data removed]"
          },
          "metadata": {
            "needs_background": "light"
          }
        }
      ],
      "source": [
        "plt.hist(X[1])\n",
        "plt.show()"
      ]
    },
    {
      "cell_type": "code",
      "execution_count": null,
      "metadata": {
        "colab": {
          "base_uri": "https://localhost:8080/",
          "height": 264
        },
        "id": "-bnAYQqVfRX-",
        "outputId": "fbf25ab1-05aa-4ca9-b8fd-30e0741fa6db"
      },
      "outputs": [
        {
          "output_type": "display_data",
          "data": {
            "text/plain": [
              "<Figure size 432x288 with 1 Axes>"
            ],
            "image/png": "[encoded data removed]"
          },
          "metadata": {
            "needs_background": "light"
          }
        }
      ],
      "source": [
        "plt.hist(X[2])\n",
        "plt.show()"
      ]
    },
    {
      "cell_type": "code",
      "execution_count": null,
      "metadata": {
        "id": "M57-Pzl_f_rF",
        "outputId": "489a80ec-4feb-4bfe-8dd7-ea1a14f4593e",
        "colab": {
          "base_uri": "https://localhost:8080/"
        }
      },
      "outputs": [
        {
          "output_type": "stream",
          "name": "stdout",
          "text": [
            "3.0 2.8284271247461903\n"
          ]
        }
      ],
      "source": [
        "X_st = X.copy().astype(np.float64)\n",
        "X1_mean = X[1].mean()\n",
        "X1_std = X[1].std()\n",
        "print(X1_mean, X1_std)"
      ]
    },
    {
      "cell_type": "code",
      "execution_count": null,
      "metadata": {
        "colab": {
          "base_uri": "https://localhost:8080/"
        },
        "id": "btJMY0YbgKLb",
        "outputId": "e0f5e61b-8357-4cb7-e575-8dfb6eedc31b"
      },
      "outputs": [
        {
          "output_type": "execute_result",
          "data": {
            "text/plain": [
              "array([[ 1.00000000e+00,  1.00000000e+00,  1.00000000e+00,\n",
              "         1.00000000e+00,  1.00000000e+00,  1.00000000e+00,\n",
              "         1.00000000e+00,  1.00000000e+00,  1.00000000e+00,\n",
              "         1.00000000e+00],\n",
              "       [-7.07106781e-01, -7.07106781e-01, -3.53553391e-01,\n",
              "         7.07106781e-01,  0.00000000e+00, -1.06066017e+00,\n",
              "         7.07106781e-01,  2.47487373e+00, -7.07106781e-01,\n",
              "        -3.53553391e-01],\n",
              "       [ 5.00000000e+02,  7.00000000e+02,  7.50000000e+02,\n",
              "         6.00000000e+02,  1.45000000e+03,  8.00000000e+02,\n",
              "         1.50000000e+03,  2.00000000e+03,  4.50000000e+02,\n",
              "         1.00000000e+03],\n",
              "       [ 1.00000000e+00,  1.00000000e+00,  2.00000000e+00,\n",
              "         1.00000000e+00,  2.00000000e+00,  1.00000000e+00,\n",
              "         3.00000000e+00,  3.00000000e+00,  1.00000000e+00,\n",
              "         2.00000000e+00]])"
            ]
          },
          "metadata": {},
          "execution_count": 13
        }
      ],
      "source": [
        "X_st[1] = (X[1] - X1_mean) / X1_std\n",
        "X_st"
      ]
    },
    {
      "cell_type": "code",
      "execution_count": null,
      "metadata": {
        "colab": {
          "base_uri": "https://localhost:8080/",
          "height": 264
        },
        "id": "-Y1tzWGCgYjA",
        "outputId": "685ac3db-20aa-46d0-a0a6-401ba874b37e"
      },
      "outputs": [
        {
          "output_type": "display_data",
          "data": {
            "text/plain": [
              "<Figure size 432x288 with 1 Axes>"
            ],
            "image/png": "[encoded data removed]"
          },
          "metadata": {
            "needs_background": "light"
          }
        }
      ],
      "source": [
        "plt.hist(X_st[1])\n",
        "plt.show()"
      ]
    },
    {
      "cell_type": "code",
      "execution_count": null,
      "metadata": {
        "collapsed": true,
        "id": "ZlJUBOyzgkJV"
      },
      "outputs": [],
      "source": [
        "def calc_std_fit(x):\n",
        "    res = (x - x.mean()) / x.std()\n",
        "    return res"
      ]
    },
    {
      "cell_type": "code",
      "execution_count": null,
      "metadata": {
        "collapsed": true,
        "id": "6PlDlFY0hGZA"
      },
      "outputs": [],
      "source": [
        "X_st[2] = calc_std_fit(X[2])"
      ]
    },
    {
      "cell_type": "code",
      "execution_count": null,
      "metadata": {
        "colab": {
          "base_uri": "https://localhost:8080/"
        },
        "id": "LOKhmhJjt9TR",
        "outputId": "1e523ea7-fa2a-4601-850c-d6fde6ace407"
      },
      "outputs": [
        {
          "output_type": "execute_result",
          "data": {
            "text/plain": [
              "array([[ 1.        ,  1.        ,  1.        ,  1.        ,  1.        ,\n",
              "         1.        ,  1.        ,  1.        ,  1.        ,  1.        ],\n",
              "       [-0.70710678, -0.70710678, -0.35355339,  0.70710678,  0.        ,\n",
              "        -1.06066017,  0.70710678,  2.47487373, -0.70710678, -0.35355339],\n",
              "       [-0.97958969, -0.56713087, -0.46401617, -0.77336028,  0.97958969,\n",
              "        -0.36090146,  1.08270439,  2.11385144, -1.08270439,  0.05155735],\n",
              "       [-0.89625816, -0.89625816,  0.38411064, -0.89625816,  0.38411064,\n",
              "        -0.89625816,  1.66447944,  1.66447944, -0.89625816,  0.38411064]])"
            ]
          },
          "metadata": {},
          "execution_count": 17
        }
      ],
      "source": [
        "X_st[3] = calc_std_fit(X[3])\n",
        "X_st"
      ]
    },
    {
      "cell_type": "markdown",
      "source": [
        "# **SGD (Stochastic gradient descent)**"
      ],
      "metadata": {
        "id": "HDBx14zfwwfF"
      }
    },
    {
      "cell_type": "code",
      "execution_count": null,
      "metadata": {
        "collapsed": true,
        "id": "VDpN7UxYnrcS"
      },
      "outputs": [],
      "source": [
        "# реализуем функцию, определяющую среднеквадратичную ошибку\n",
        "def calc_mse(y, y_pred):\n",
        "    err = np.mean((y - y_pred)**2)\n",
        "    return err"
      ]
    },
    {
      "cell_type": "code",
      "execution_count": null,
      "metadata": {
        "collapsed": true,
        "id": "SgEyis2zlJeb"
      },
      "outputs": [],
      "source": [
        "def eval_model(X, y, iterations, alpha=1e-4):\n",
        "    W = np.random.randn(X.shape[0])\n",
        "    n = X.shape[1]\n",
        "    for i in range(1, iterations+1):\n",
        "        y_pred = np.dot(W, X)\n",
        "        err = calc_mse(y, y_pred)\n",
        "        W -= (alpha * (1/n * 2 * np.dot((y_pred - y), X.T)))\n",
        "        if i % (iterations / 10) == 0:\n",
        "            print(i, W, err)\n",
        "    return W"
      ]
    },
    {
      "cell_type": "code",
      "execution_count": null,
      "metadata": {
        "colab": {
          "base_uri": "https://localhost:8080/"
        },
        "id": "4nsYMAGjmFlB",
        "outputId": "9985aa83-8a67-48a7-8e11-274c5016310d"
      },
      "outputs": [
        {
          "output_type": "stream",
          "name": "stdout",
          "text": [
            "100 [49.00767324  5.02757596  2.69519374  4.59738845] 85.00776854836143\n",
            "200 [55.50637095  5.45484529  2.09580147  4.87136674] 26.958091489740816\n",
            "300 [56.36822536  5.70753284  1.61254849  5.12518203] 25.582712352603487\n",
            "400 [56.48252411  5.870487    1.23201481  5.35911439] 25.33699528337865\n",
            "500 [56.49768235  5.97962433  0.92925971  5.56477314] 25.189741059388403\n",
            "600 [56.49969263  6.05551286  0.68657146  5.7406775 ] 25.093473614735835\n",
            "700 [56.49995924  6.11015872  0.49100675  5.88862594] 25.029928115986255\n",
            "800 [56.49999459  6.15072227  0.33283972  6.01174325] 24.987830404604992\n",
            "900 [56.49999928  6.18159102  0.20459745  6.11349204] 24.95989559359023\n",
            "1000 [56.4999999   6.20554166  0.10043951  6.19720001] 24.941344873741578\n"
          ]
        },
        {
          "output_type": "execute_result",
          "data": {
            "text/plain": [
              "array([56.4999999 ,  6.20554166,  0.10043951,  6.19720001])"
            ]
          },
          "metadata": {},
          "execution_count": 95
        }
      ],
      "source": [
        "eval_model(X_st, y, iterations=1000, alpha=1e-2)"
      ]
    },
    {
      "cell_type": "code",
      "execution_count": null,
      "metadata": {
        "collapsed": true,
        "id": "oV_LJy4l6r0W"
      },
      "outputs": [],
      "source": [
        "def eval_sgd_model(X, y, iterations, qty_in_batch, alpha=1e-4):\n",
        "    W = np.random.randn(X.shape[0])\n",
        "    n = X.shape[1]\n",
        "    n_batch = n // qty_in_batch\n",
        "    \n",
        "    if n % qty_in_batch != 0:\n",
        "        n_batch += 1\n",
        "        \n",
        "    for i in range(1, iterations+1):\n",
        "        for b in range(n_batch):\n",
        "            start_ = qty_in_batch*b\n",
        "            end_ = qty_in_batch*(b+1)\n",
        "#             print(b, n_batch, start_, end_)\n",
        "            X_tmp = X[:, start_ : end_]\n",
        "            y_tmp = y[start_ : end_]\n",
        "\n",
        "            y_pred_tmp = np.dot(W, X_tmp)\n",
        "            err = calc_mse(y_tmp, y_pred_tmp)\n",
        "\n",
        "            W -= (alpha * (1/n * 2 * np.dot((y_pred_tmp - y_tmp), X_tmp.T)))\n",
        "        \n",
        "        if i % (iterations / 10) == 0:\n",
        "            print(i, W, err)\n",
        "    return W"
      ]
    },
    {
      "cell_type": "code",
      "execution_count": null,
      "metadata": {
        "colab": {
          "base_uri": "https://localhost:8080/"
        },
        "id": "2aXap4Vsm3GV",
        "outputId": "376cb186-217c-4207-ff25-6b9594c6cb35"
      },
      "outputs": [
        {
          "output_type": "stream",
          "name": "stdout",
          "text": [
            "500 [56.5078844   5.8603579   1.23205551  5.3820765 ] 13.265905461906325\n",
            "1000 [56.5104632   6.19022899  0.19706746  6.12660152] 12.028395240176915\n",
            "1500 [56.51056232  6.27071801 -0.163192    6.41855495] 11.55507817576229\n",
            "2000 [56.5105994   6.29771752 -0.29217333  6.52481682] 11.384614196936464\n",
            "2500 [56.51061281  6.30733012 -0.33854119  6.56310652] 11.323473239751284\n",
            "3000 [56.51061764  6.31078301 -0.35521985  6.57688402] 11.301512225634744\n",
            "3500 [56.51061937  6.31202488 -0.36121972  6.58184048] 11.293616893689713\n",
            "4000 [56.51062     6.31247162 -0.36337809  6.58362351] 11.290777300232541\n",
            "4500 [56.51062022  6.31263232 -0.36415454  6.58426494] 11.289755876860763\n",
            "5000 [56.5106203   6.31269013 -0.36443386  6.58449568] 11.289388443249244\n"
          ]
        },
        {
          "output_type": "execute_result",
          "data": {
            "text/plain": [
              "array([56.5106203 ,  6.31269013, -0.36443386,  6.58449568])"
            ]
          },
          "metadata": {},
          "execution_count": 91
        }
      ],
      "source": [
        "eval_sgd_model(X_st, y, iterations=5000, qty_in_batch=4, alpha=1e-2)"
      ]
    },
    {
      "cell_type": "markdown",
      "source": [
        "# **L1 регуляризация**"
      ],
      "metadata": {
        "id": "sX3RD91WZloA"
      }
    },
    {
      "cell_type": "code",
      "metadata": {
        "id": "Ojkn7xKrsyiw"
      },
      "source": [
        "# f(x, W) + (lambda_/2) * np.sum(np.abs(W))"
      ],
      "execution_count": null,
      "outputs": []
    },
    {
      "cell_type": "markdown",
      "source": [
        "# **L2 регуляризация**"
      ],
      "metadata": {
        "id": "l1W67VkCaFhw"
      }
    },
    {
      "cell_type": "code",
      "metadata": {
        "id": "KO5BtZ7svv4k"
      },
      "source": [
        "# f(x, W) + (lambda_/ 2) * np.sum(W**2)"
      ],
      "execution_count": null,
      "outputs": []
    },
    {
      "cell_type": "code",
      "execution_count": null,
      "metadata": {
        "collapsed": true,
        "id": "7AVoe1Mswjni"
      },
      "outputs": [],
      "source": [
        "def eval_model_reg2(X, y, iterations, alpha=1e-4, lambda_=1e-8):\n",
        "    np.random.seed(42)\n",
        "    W = np.random.randn(X.shape[0])\n",
        "    n = X.shape[1]\n",
        "    for i in range(1, iterations+1):\n",
        "        y_pred = np.dot(W, X)\n",
        "        err = calc_mse(y, y_pred)\n",
        "        W -= alpha * (1/n * 2 * np.dot((y_pred - y), X.T) + lambda_ * W) \n",
        "        # if i % (iterations / 10) == 0:\n",
        "        #     print(i, W, err)\n",
        "    return W"
      ]
    },
    {
      "cell_type": "code",
      "execution_count": null,
      "metadata": {
        "id": "vLJL6j8Lw6OA"
      },
      "outputs": [],
      "source": [
        "W = eval_model_reg2(X_st, y, iterations=5000, alpha=1e-2, lambda_=1e-4)\n"
      ]
    },
    {
      "cell_type": "markdown",
      "metadata": {
        "id": "gKDejdRT6r0g"
      },
      "source": [
        "# **Практическое задание**"
      ]
    },
    {
      "cell_type": "markdown",
      "metadata": {
        "id": "S3bTX7yz6r0g"
      },
      "source": [
        "# * Постройте график зависимости весов всех признаков от lambda в L2-регуляризации на основе данных из урока."
      ]
    },
    {
      "cell_type": "code",
      "source": [
        "w_list = []\n",
        "l_list = []\n",
        "\n",
        "for l in np.logspace(start=-4, stop=1, num=20):\n",
        "  l_list.append(l)\n",
        "  w_new = eval_model_reg2(X_st, y, iterations=5000, alpha=1e-2, lambda_=l)\n",
        "  w_list.append(w_new)\n",
        "\n",
        "weights = np.array(w_list)"
      ],
      "metadata": {
        "id": "nhY2l-CswE4T"
      },
      "execution_count": null,
      "outputs": []
    },
    {
      "cell_type": "code",
      "source": [
        "plt.figure(figsize=(10, 5))\n",
        "plt.xscale('log')\n",
        "\n",
        "plt.plot(l_list, weights[:, 1], 'go-', label=r'$w_1$')\n",
        "plt.plot(l_list, weights[:, 2], 'ro-', label=r'$w_2$')\n",
        "plt.plot(l_list, weights[:, 3], 'bo-', label=r'$w_2$')\n",
        "plt.xlabel('Коэффициент L2 регуляризации - lambda')\n",
        "plt.ylabel('Веса')\n",
        "plt.grid()\n",
        "plt.legend()"
      ],
      "metadata": {
        "colab": {
          "base_uri": "https://localhost:8080/",
          "height": 356
        },
        "id": "xE64DLiYvyq8",
        "outputId": "6d39f857-4fd7-4b6f-8716-83977265af6b"
      },
      "execution_count": null,
      "outputs": [
        {
          "output_type": "execute_result",
          "data": {
            "text/plain": [
              "<matplotlib.legend.Legend at 0x7faa68f4e150>"
            ]
          },
          "metadata": {},
          "execution_count": 63
        },
        {
          "output_type": "display_data",
          "data": {
            "text/plain": [
              "<Figure size 720x360 with 1 Axes>"
            ],
            "image/png": "[encoded data removed]"
          },
          "metadata": {
            "needs_background": "light"
          }
        }
      ]
    },
    {
      "cell_type": "markdown",
      "metadata": {
        "id": "ZIbh5rKr6r0n"
      },
      "source": [
        "# * Можно ли к одному и тому же признаку применить сразу и нормализацию, и стандартизацию?\n",
        "\n",
        "Можно попробовать, но результат того не стоит.\n",
        "\n",
        "Лучше к признакам, имеющим нормальное распределение, применять нормализацию, а к категориальным признакам, которые будут использоваться в кластерном анализе, применять стандартизацию.\n",
        "\n",
        "Причина применения нормализации - разные признаки обучающего набора данных могут быть представлены в разных масштабах и изменяться в разных диапазонах.\n",
        "\n",
        "Причина применения стандартизации = обеспечение возможности корректного сравнения значений наблюдений, собранных одними и теми же методами, но в различных условиях."
      ]
    },
    {
      "cell_type": "markdown",
      "metadata": {
        "id": "uJQtO2UB6r0n"
      },
      "source": [
        "# * Напишите функцию наподобие eval_model_reg2, но для применения L1-регуляризации."
      ]
    },
    {
      "cell_type": "code",
      "source": [
        "def gradient_descent_reg_l1(X, y, iterations, alpha=1e-4, lambda_=1e-8):\n",
        "    W = np.random.randn(X.shape[0])\n",
        "    n = X.shape[1]\n",
        "    for i in range(1, iterations+1):\n",
        "        y_pred = np.dot(W, X)\n",
        "        err = calc_mse(y, y_pred)\n",
        "        grad = 1/n * 2 * np.dot((y_pred - y), X.T)\n",
        "        L1 = (lambda_/2) * np.sum(np.abs(W)) # штраф)))\n",
        "        W -= (alpha * (grad + L1))\n",
        "        if i % (iterations / 10) == 0:\n",
        "            print(f' Iter:{i}, weights {W}, error: {err}')\n",
        "\n",
        "    return W"
      ],
      "metadata": {
        "id": "fYT5yupMVkXf"
      },
      "execution_count": null,
      "outputs": []
    },
    {
      "cell_type": "code",
      "source": [
        "W = gradient_descent_reg_l1(X_st, y, iterations=1000, alpha=1e-2)"
      ],
      "metadata": {
        "colab": {
          "base_uri": "https://localhost:8080/"
        },
        "id": "50ex2FDg_Qia",
        "outputId": "6d630ce6-1a47-4cd4-a19c-a78408f08a2e"
      },
      "execution_count": null,
      "outputs": [
        {
          "output_type": "stream",
          "name": "stdout",
          "text": [
            " Iter:100, weights [49.19303294  3.75480746  3.14184613  5.37021111], error: 83.66818687550209\n",
            " Iter:200, weights [55.53095313  4.74722069  2.35012271  5.28555944], error: 27.385752793452365\n",
            " Iter:300, weights [56.37148529  5.31516793  1.76188867  5.34628658], error: 25.737610891281463\n",
            " Iter:400, weights [56.48295629  5.65244885  1.32177302  5.47505889], error: 25.391233316897384\n",
            " Iter:500, weights [56.49773952  5.85806504  0.98478099  5.62380921], error: 25.21079109834948\n",
            " Iter:600, weights [56.49970007  5.98742213  0.72209273  5.76922416], error: 25.102893547280864\n",
            " Iter:700, weights [56.49996007  6.0717601   0.51458897  5.90109287], error: 25.034796664162048\n",
            " Iter:800, weights [56.49999456  6.12886085  0.34909791  6.01594434], error: 24.990641978414082\n",
            " Iter:900, weights [56.49999913  6.16897942  0.2162143   6.11362691], error: 24.961634898210562\n",
            " Iter:1000, weights [56.49999973  6.19813561  0.10900623  6.1954946 ], error: 24.942461361968803\n"
          ]
        }
      ]
    },
    {
      "cell_type": "markdown",
      "source": [
        "Здравствуйте, 2 замечания:\n",
        "1. L1-регуляризация написана некорректно - мы обновляем веса на производную функции потерь, в вашей же реализации получается что-то близкое к L2.\n",
        "2. Вы не объяснили, почему одновременное применение стандартизации и нормализации \"того не стоит\"."
      ],
      "metadata": {
        "id": "eYjMM7fhD_Z7"
      }
    }
  ],
  "metadata": {
    "colab": {
      "collapsed_sections": [
        "l1W67VkCaFhw"
      ],
      "provenance": [],
      "include_colab_link": true
    },
    "kernelspec": {
      "display_name": "Python 3",
      "language": "python",
      "name": "python3"
    },
    "language_info": {
      "codemirror_mode": {
        "name": "ipython",
        "version": 3
      },
      "file_extension": ".py",
      "mimetype": "text/x-python",
      "name": "python",
      "nbconvert_exporter": "python",
      "pygments_lexer": "ipython3",
      "version": "3.7.6"
    }
  },
  "nbformat": 4,
  "nbformat_minor": 0
}