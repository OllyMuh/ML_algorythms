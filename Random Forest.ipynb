{
  "cells": [
    {
      "cell_type": "markdown",
      "metadata": {
        "id": "view-in-github",
        "colab_type": "text"
      },
      "source": [
        "<a href=\"https://colab.research.google.com/github/OllyMuh/ML_algorythms/blob/main/Random%20Forest.ipynb\" target=\"_parent\"><img src=\"https://colab.research.google.com/assets/colab-badge.svg\" alt=\"Open In Colab\"/></a>"
      ]
    },
    {
      "cell_type": "markdown",
      "metadata": {
        "id": "q0Z7pb2vbIWg"
      },
      "source": [
        "# Урок 5. Случайный лес"
      ]
    },
    {
      "cell_type": "markdown",
      "metadata": {
        "id": "PQCSzN66OtP8"
      },
      "source": [
        "### Практическое задание"
      ]
    },
    {
      "cell_type": "code",
      "execution_count": null,
      "metadata": {
        "collapsed": true,
        "id": "ZNR-FOeobIWs"
      },
      "outputs": [],
      "source": [
        "import matplotlib.pyplot as plt\n",
        "import matplotlib\n",
        "%matplotlib inline\n",
        "import random\n",
        "\n",
        "\n",
        "from matplotlib.colors import ListedColormap\n",
        "from sklearn import datasets\n",
        "\n",
        "import numpy as np"
      ]
    },
    {
      "cell_type": "markdown",
      "metadata": {
        "id": "J9vJqALyOtP8"
      },
      "source": [
        "**1. Сформируйте посредством sklearn.make_classification датасет из 100 объектов с двумя признаками. Обучите случайный лес из 1, 3, 10 и 50 деревьев и визуализируйте их разделяющие гиперплоскости на графиках по подобию визуализации деревьев из предыдущего урока, заменив вызов функции predict на tree_vote.**"
      ]
    },
    {
      "cell_type": "code",
      "execution_count": null,
      "metadata": {
        "collapsed": true,
        "id": "m4Mb7omZbIWw"
      },
      "outputs": [],
      "source": [
        "# сгенерируем данные, представляющие собой 100 объектов с двумя признаками\n",
        "classification_data, classification_labels = datasets.make_classification(n_samples=100,\n",
        "                                                      n_features = 2, n_informative = 2, \n",
        "                                                      n_classes = 2, n_redundant=0, \n",
        "                                                      n_clusters_per_class=1, random_state=23)"
      ]
    },
    {
      "cell_type": "code",
      "execution_count": null,
      "metadata": {
        "colab": {
          "base_uri": "https://localhost:8080/",
          "height": 501
        },
        "id": "2R53TJClbIWz",
        "outputId": "54adfd61-75f1-491d-b9c4-30f526c4aed4"
      },
      "outputs": [
        {
          "output_type": "execute_result",
          "data": {
            "text/plain": [
              "<matplotlib.collections.PathCollection at 0x7f9fd6047690>"
            ]
          },
          "metadata": {},
          "execution_count": 3
        },
        {
          "output_type": "display_data",
          "data": {
            "text/plain": [
              "<Figure size 576x576 with 1 Axes>"
            ],
            "image/png": "[encoded data removed]"
          },
          "metadata": {
            "needs_background": "light"
          }
        }
      ],
      "source": [
        "# визуализируем сгенерированные данные\n",
        "\n",
        "colors = ListedColormap(['red', 'blue'])\n",
        "light_colors = ListedColormap(['lightcoral', 'lightblue'])\n",
        "\n",
        "plt.figure(figsize=(8,8))\n",
        "plt.scatter(list(map(lambda x: x[0], classification_data)), list(map(lambda x: x[1], classification_data)), \n",
        "              c=classification_labels, cmap=colors)"
      ]
    },
    {
      "cell_type": "code",
      "execution_count": null,
      "metadata": {
        "collapsed": true,
        "id": "d7if4ogqbIW3"
      },
      "outputs": [],
      "source": [
        "random.seed(42)\n",
        "\n",
        "def get_bootstrap(data, labels, N):\n",
        "    n_samples = data.shape[0]\n",
        "    bootstrap = []\n",
        "    \n",
        "    for i in range(N):\n",
        "        b_data = np.zeros(data.shape)\n",
        "        b_labels = np.zeros(labels.shape)\n",
        "        \n",
        "        for j in range(n_samples):\n",
        "            sample_index = random.randint(0, n_samples-1)\n",
        "            b_data[j] = data[sample_index]\n",
        "            b_labels[j] = labels[sample_index]\n",
        "        bootstrap.append((b_data, b_labels))\n",
        "        \n",
        "    return bootstrap"
      ]
    },
    {
      "cell_type": "code",
      "execution_count": null,
      "metadata": {
        "collapsed": true,
        "id": "526l0aGNbIW5"
      },
      "outputs": [],
      "source": [
        "def get_subsample(len_sample):\n",
        "    # будем сохранять не сами признаки, а их индексы\n",
        "    sample_indexes = [i for i in range(len_sample)]\n",
        "    \n",
        "    len_subsample = int(np.sqrt(len_sample))\n",
        "    subsample = []\n",
        "    \n",
        "    random.shuffle(sample_indexes)\n",
        "    for _ in range(len_subsample):\n",
        "        subsample.append(sample_indexes.pop())\n",
        "        \n",
        "    return subsample"
      ]
    },
    {
      "cell_type": "code",
      "execution_count": null,
      "metadata": {
        "collapsed": true,
        "id": "AGdBq1lbbIW9"
      },
      "outputs": [],
      "source": [
        "# Реализуем класс узла\n",
        "\n",
        "class Node:\n",
        "    \n",
        "    def __init__(self, index, t, true_branch, false_branch):\n",
        "        self.index = index  # индекс признака, по которому ведётся сравнение с порогом в этом узле\n",
        "        self.t = t  # значение порога\n",
        "        self.true_branch = true_branch  # поддерево, удовлетворяющее условию в узле\n",
        "        self.false_branch = false_branch  # поддерево, не удовлетворяющее условию в узле"
      ]
    },
    {
      "cell_type": "code",
      "execution_count": null,
      "metadata": {
        "collapsed": true,
        "id": "QGT-Wsx6bIW_"
      },
      "outputs": [],
      "source": [
        "# И класс терминального узла (листа)\n",
        "\n",
        "class Leaf:\n",
        "    \n",
        "    def __init__(self, data, labels):\n",
        "        self.data = data\n",
        "        self.labels = labels\n",
        "        self.prediction = self.predict()\n",
        "        \n",
        "    def predict(self):\n",
        "        # подсчёт количества объектов разных классов\n",
        "        classes = {}  # сформируем словарь \"класс: количество объектов\"\n",
        "        for label in self.labels:\n",
        "            if label not in classes:\n",
        "                classes[label] = 0\n",
        "            classes[label] += 1\n",
        "        #  найдём класс, количество объектов которого будет максимальным в этом листе, и вернём его    \n",
        "        prediction = max(classes, key=classes.get)\n",
        "        return prediction        "
      ]
    },
    {
      "cell_type": "code",
      "execution_count": null,
      "metadata": {
        "collapsed": true,
        "id": "DRTe458CbIXE"
      },
      "outputs": [],
      "source": [
        "# Расчёт критерия Джини\n",
        "\n",
        "def gini(labels):\n",
        "    #  подсчёт количества объектов разных классов\n",
        "    classes = {}\n",
        "    for label in labels:\n",
        "        if label not in classes:\n",
        "            classes[label] = 0\n",
        "        classes[label] += 1\n",
        "    \n",
        "    #  расчёт критерия\n",
        "    impurity = 1\n",
        "    for label in classes:\n",
        "        p = classes[label] / len(labels)\n",
        "        impurity -= p ** 2\n",
        "        \n",
        "    return impurity"
      ]
    },
    {
      "cell_type": "code",
      "execution_count": null,
      "metadata": {
        "collapsed": true,
        "id": "YT7T4h3WbIXH"
      },
      "outputs": [],
      "source": [
        "# Расчёт качества\n",
        "\n",
        "def quality(left_labels, right_labels, current_gini):\n",
        "\n",
        "    # доля выборки, ушедшая в левое поддерево\n",
        "    p = float(left_labels.shape[0]) / (left_labels.shape[0] + right_labels.shape[0])\n",
        "    \n",
        "    return current_gini - p * gini(left_labels) - (1 - p) * gini(right_labels)"
      ]
    },
    {
      "cell_type": "code",
      "execution_count": null,
      "metadata": {
        "collapsed": true,
        "id": "rqbAx1cXbIXK"
      },
      "outputs": [],
      "source": [
        "# Разбиение датасета в узле\n",
        "\n",
        "def split(data, labels, index, t):\n",
        "    \n",
        "    left = np.where(data[:, index] <= t)\n",
        "    right = np.where(data[:, index] > t)\n",
        "        \n",
        "    true_data = data[left]\n",
        "    false_data = data[right]\n",
        "    true_labels = labels[left]\n",
        "    false_labels = labels[right]\n",
        "        \n",
        "    return true_data, false_data, true_labels, false_labels"
      ]
    },
    {
      "cell_type": "code",
      "execution_count": null,
      "metadata": {
        "collapsed": true,
        "id": "zP2pg3HUbIXP"
      },
      "outputs": [],
      "source": [
        "# Нахождение наилучшего разбиения\n",
        "\n",
        "def find_best_split(data, labels):\n",
        "    \n",
        "    #  обозначим минимальное количество объектов в узле\n",
        "    min_leaf = 5\n",
        "\n",
        "    current_gini = gini(labels)\n",
        "\n",
        "    best_quality = 0\n",
        "    best_t = None\n",
        "    best_index = None\n",
        "    \n",
        "    n_features = data.shape[1]\n",
        "    \n",
        "    # выбор индекса из подвыборки длиной sqrt(n_features)\n",
        "    subsample = get_subsample(n_features)\n",
        "    \n",
        "    for index in subsample:\n",
        "        t_values = [row[index] for row in data]\n",
        "        \n",
        "        for t in t_values:\n",
        "            true_data, false_data, true_labels, false_labels = split(data, labels, index, t)\n",
        "            #  пропускаем разбиения, где в узле остаётся менее пяти объектов\n",
        "            if len(true_data) < min_leaf or len(false_data) < min_leaf:\n",
        "                continue\n",
        "            \n",
        "            current_quality = quality(true_labels, false_labels, current_gini)\n",
        "            \n",
        "            #  выбираем порог, на котором получается максимальный прирост качества\n",
        "            if current_quality > best_quality:\n",
        "                best_quality, best_t, best_index = current_quality, t, index\n",
        "\n",
        "    return best_quality, best_t, best_index"
      ]
    },
    {
      "cell_type": "code",
      "execution_count": null,
      "metadata": {
        "collapsed": true,
        "id": "dQ4ZPJRUbIXR"
      },
      "outputs": [],
      "source": [
        "# Построение дерева посредством рекурсивной функции\n",
        "\n",
        "def build_tree(data, labels):\n",
        "\n",
        "    quality, t, index = find_best_split(data, labels)\n",
        "\n",
        "    #  Базовый случай — прекращаем рекурсию, когда нет прироста качества\n",
        "    if quality == 0:\n",
        "        return Leaf(data, labels)\n",
        "\n",
        "    true_data, false_data, true_labels, false_labels = split(data, labels, index, t)\n",
        "\n",
        "    # Рекурсивно строим два поддерева\n",
        "    true_branch = build_tree(true_data, true_labels)\n",
        "    false_branch = build_tree(false_data, false_labels)\n",
        "\n",
        "    # Возвращаем класс узла со всеми поддеревьями, то есть целого дерева\n",
        "    return Node(index, t, true_branch, false_branch)"
      ]
    },
    {
      "cell_type": "code",
      "execution_count": null,
      "metadata": {
        "collapsed": true,
        "id": "PZMieMMrbIXV"
      },
      "outputs": [],
      "source": [
        "def random_forest(data, labels, n_trees):\n",
        "    forest = []\n",
        "    bootstrap = get_bootstrap(data, labels, n_trees)\n",
        "    \n",
        "    for b_data, b_labels in bootstrap:\n",
        "        forest.append(build_tree(b_data, b_labels))\n",
        "        \n",
        "    return forest"
      ]
    },
    {
      "cell_type": "code",
      "execution_count": null,
      "metadata": {
        "collapsed": true,
        "id": "tWNbZTz4bIXX"
      },
      "outputs": [],
      "source": [
        "# Функция классификации отдельного объекта\n",
        "\n",
        "def classify_object(obj, node):\n",
        "\n",
        "    #  Останавливаем рекурсию, если достигли листа\n",
        "    if isinstance(node, Leaf):\n",
        "        answer = node.prediction\n",
        "        return answer\n",
        "\n",
        "    if obj[node.index] <= node.t:\n",
        "        return classify_object(obj, node.true_branch)\n",
        "    else:\n",
        "        return classify_object(obj, node.false_branch)"
      ]
    },
    {
      "cell_type": "code",
      "execution_count": null,
      "metadata": {
        "collapsed": true,
        "id": "rWOM8g_YbIXZ"
      },
      "outputs": [],
      "source": [
        "# функция формирования предсказания по выборке на одном дереве\n",
        "\n",
        "def predict(data, tree):\n",
        "    \n",
        "    classes = []\n",
        "    for obj in data:\n",
        "        prediction = classify_object(obj, tree)\n",
        "        classes.append(prediction)\n",
        "    return classes"
      ]
    },
    {
      "cell_type": "code",
      "execution_count": null,
      "metadata": {
        "collapsed": true,
        "id": "ZtIgR7R-bIXc"
      },
      "outputs": [],
      "source": [
        "# предсказание голосованием деревьев\n",
        "\n",
        "def tree_vote(forest, data):\n",
        "\n",
        "    # добавим предсказания всех деревьев в список\n",
        "    predictions = []\n",
        "    for tree in forest:\n",
        "        predictions.append(predict(data, tree))\n",
        "    \n",
        "    # сформируем список с предсказаниями для каждого объекта\n",
        "    predictions_per_object = list(zip(*predictions))\n",
        "    \n",
        "    # выберем в качестве итогового предсказания для каждого объекта то,\n",
        "    # за которое проголосовало большинство деревьев\n",
        "    voted_predictions = []\n",
        "    for obj in predictions_per_object:\n",
        "        voted_predictions.append(max(set(obj), key=obj.count))\n",
        "        \n",
        "    return voted_predictions"
      ]
    },
    {
      "cell_type": "code",
      "execution_count": null,
      "metadata": {
        "collapsed": true,
        "id": "Ie9t9IyAbIXh"
      },
      "outputs": [],
      "source": [
        "# Разобьем выборку на обучающую и тестовую\n",
        "\n",
        "from sklearn.model_selection import train_test_split\n",
        "\n",
        "train_data, test_data, train_labels, test_labels = train_test_split(classification_data, \n",
        "                                                                    classification_labels, \n",
        "                                                                    test_size=0.3,\n",
        "                                                                    random_state=1)"
      ]
    },
    {
      "cell_type": "code",
      "execution_count": null,
      "metadata": {
        "collapsed": true,
        "id": "z4apOFB9bIXk"
      },
      "outputs": [],
      "source": [
        "# Введём функцию подсчёта точности как доли правильных ответов\n",
        "\n",
        "def accuracy_metric(actual, predicted):\n",
        "    correct = 0\n",
        "    for i in range(len(actual)):\n",
        "        if actual[i] == predicted[i]:\n",
        "            correct += 1\n",
        "    return correct / float(len(actual)) * 100.0"
      ]
    },
    {
      "cell_type": "code",
      "source": [
        "def get_meshgrid(data, step=.05, border=1.2):\n",
        "    x_min, x_max = data[:, 0].min() - border, data[:, 0].max() + border\n",
        "    y_min, y_max = data[:, 1].min() - border, data[:, 1].max() + border\n",
        "    return np.meshgrid(np.arange(x_min, x_max, step), np.arange(y_min, y_max, step))"
      ],
      "metadata": {
        "id": "eFvcwM6Yijdp"
      },
      "execution_count": null,
      "outputs": []
    },
    {
      "cell_type": "markdown",
      "metadata": {
        "id": "Dcd1Jw6HbIXo"
      },
      "source": [
        "Построим лес из одного дерева."
      ]
    },
    {
      "cell_type": "code",
      "execution_count": null,
      "metadata": {
        "collapsed": true,
        "id": "ie4loVA2bIXp",
        "colab": {
          "base_uri": "https://localhost:8080/",
          "height": 498
        },
        "outputId": "89961b77-5f9e-4215-c593-39eda4f9834f"
      },
      "outputs": [
        {
          "output_type": "stream",
          "name": "stdout",
          "text": [
            "Точность случайного леса из 1 деревьев на обучающей выборке: 94.286\n",
            "Точность случайного леса из 1 деревьев на тестовой выборке: 80.000\n"
          ]
        },
        {
          "output_type": "execute_result",
          "data": {
            "text/plain": [
              "Text(0.5, 1.0, 'Test accuracy=80.00')"
            ]
          },
          "metadata": {},
          "execution_count": 38
        },
        {
          "output_type": "display_data",
          "data": {
            "text/plain": [
              "<Figure size 1152x504 with 2 Axes>"
            ],
            "image/png": "[encoded data removed]"
          },
          "metadata": {
            "needs_background": "light"
          }
        }
      ],
      "source": [
        "n_trees = 1\n",
        "my_forest_1 = random_forest(train_data, train_labels, n_trees)\n",
        "\n",
        "# Получим ответы для обучающей выборки \n",
        "train_answers = tree_vote(my_forest_1, train_data)\n",
        "\n",
        "# И получим ответы для тестовой выборки\n",
        "test_answers = tree_vote(my_forest_1, test_data)\n",
        "\n",
        "# Точность на обучающей выборке\n",
        "train_accuracy = accuracy_metric(train_labels, train_answers)\n",
        "print(f'Точность случайного леса из {n_trees} деревьев на обучающей выборке: {train_accuracy:.3f}')\n",
        "\n",
        "# Точность на тестовой выборке\n",
        "test_accuracy = accuracy_metric(test_labels, test_answers)\n",
        "print(f'Точность случайного леса из {n_trees} деревьев на тестовой выборке: {test_accuracy:.3f}')\n",
        "\n",
        "# Визуализируем дерево на графике\n",
        "# график обучающей выборки\n",
        "plt.figure(figsize = (16, 7))\n",
        "plt.subplot(1,2,1)\n",
        "xx, yy = get_meshgrid(train_data)\n",
        "mesh_predictions = np.array(tree_vote(my_forest_1, np.c_[xx.ravel(), yy.ravel()])).reshape(xx.shape)\n",
        "plt.pcolormesh(xx, yy, mesh_predictions, cmap = light_colors)\n",
        "plt.scatter(train_data[:, 0], train_data[:, 1], c = train_labels, cmap = colors)\n",
        "plt.title(f'Train accuracy={train_accuracy:.2f}')\n",
        "\n",
        "# график тестовой выборки\n",
        "plt.subplot(1,2,2)\n",
        "plt.pcolormesh(xx, yy, mesh_predictions, cmap = light_colors)\n",
        "plt.scatter(test_data[:, 0], test_data[:, 1], c = test_labels, cmap = colors)\n",
        "plt.title(f'Test accuracy={test_accuracy:.2f}')"
      ]
    },
    {
      "cell_type": "markdown",
      "metadata": {
        "id": "HHSLxUfXbIX1"
      },
      "source": [
        "Построим лес из трёх деревьев."
      ]
    },
    {
      "cell_type": "code",
      "source": [
        "n_trees = 3\n",
        "my_forest_3 = random_forest(train_data, train_labels, n_trees)\n",
        "\n",
        "# Получим ответы для обучающей выборки \n",
        "train_answers = tree_vote(my_forest_3, train_data)\n",
        "\n",
        "# И получим ответы для тестовой выборки\n",
        "test_answers = tree_vote(my_forest_3, test_data)\n",
        "\n",
        "# Точность на обучающей выборке\n",
        "train_accuracy = accuracy_metric(train_labels, train_answers)\n",
        "print(f'Точность случайного леса из {n_trees} деревьев на обучающей выборке: {train_accuracy:.3f}')\n",
        "\n",
        "# Точность на тестовой выборке\n",
        "test_accuracy = accuracy_metric(test_labels, test_answers)\n",
        "print(f'Точность случайного леса из {n_trees} деревьев на тестовой выборке: {test_accuracy:.3f}')\n",
        "\n",
        "# Визуализируем дерево на графике\n",
        "# график обучающей выборки\n",
        "plt.figure(figsize = (16, 7))\n",
        "plt.subplot(1,2,1)\n",
        "xx, yy = get_meshgrid(train_data)\n",
        "mesh_predictions = np.array(tree_vote(my_forest_3, np.c_[xx.ravel(), yy.ravel()])).reshape(xx.shape)\n",
        "plt.pcolormesh(xx, yy, mesh_predictions, cmap = light_colors)\n",
        "plt.scatter(train_data[:, 0], train_data[:, 1], c = train_labels, cmap = colors)\n",
        "plt.title(f'Train accuracy={train_accuracy:.2f}')\n",
        "\n",
        "# график тестовой выборки\n",
        "plt.subplot(1,2,2)\n",
        "plt.pcolormesh(xx, yy, mesh_predictions, cmap = light_colors)\n",
        "plt.scatter(test_data[:, 0], test_data[:, 1], c = test_labels, cmap = colors)\n",
        "plt.title(f'Test accuracy={test_accuracy:.2f}')"
      ],
      "metadata": {
        "colab": {
          "base_uri": "https://localhost:8080/",
          "height": 498
        },
        "id": "sgOj1XtSjAJF",
        "outputId": "7b57f156-b672-44f3-95f5-3bb6a5f19881"
      },
      "execution_count": null,
      "outputs": [
        {
          "output_type": "stream",
          "name": "stdout",
          "text": [
            "Точность случайного леса из 3 деревьев на обучающей выборке: 90.000\n",
            "Точность случайного леса из 3 деревьев на тестовой выборке: 70.000\n"
          ]
        },
        {
          "output_type": "execute_result",
          "data": {
            "text/plain": [
              "Text(0.5, 1.0, 'Test accuracy=70.00')"
            ]
          },
          "metadata": {},
          "execution_count": 39
        },
        {
          "output_type": "display_data",
          "data": {
            "text/plain": [
              "<Figure size 1152x504 with 2 Axes>"
            ],
            "image/png": "[encoded data removed]"
          },
          "metadata": {
            "needs_background": "light"
          }
        }
      ]
    },
    {
      "cell_type": "markdown",
      "metadata": {
        "id": "CfcvqNmabIYA"
      },
      "source": [
        "Построим лес из десяти деревьев."
      ]
    },
    {
      "cell_type": "code",
      "source": [
        "n_trees = 10\n",
        "my_forest_10 = random_forest(train_data, train_labels, n_trees)\n",
        "\n",
        "# Получим ответы для обучающей выборки \n",
        "train_answers = tree_vote(my_forest_10, train_data)\n",
        "\n",
        "# И получим ответы для тестовой выборки\n",
        "test_answers = tree_vote(my_forest_10, test_data)\n",
        "\n",
        "# Точность на обучающей выборке\n",
        "train_accuracy = accuracy_metric(train_labels, train_answers)\n",
        "print(f'Точность случайного леса из {n_trees} деревьев на обучающей выборке: {train_accuracy:.3f}')\n",
        "\n",
        "# Точность на тестовой выборке\n",
        "test_accuracy = accuracy_metric(test_labels, test_answers)\n",
        "print(f'Точность случайного леса из {n_trees} деревьев на тестовой выборке: {test_accuracy:.3f}')\n",
        "\n",
        "# Визуализируем дерево на графике\n",
        "# график обучающей выборки\n",
        "plt.figure(figsize = (16, 7))\n",
        "plt.subplot(1,2,1)\n",
        "xx, yy = get_meshgrid(train_data)\n",
        "mesh_predictions = np.array(tree_vote(my_forest_10, np.c_[xx.ravel(), yy.ravel()])).reshape(xx.shape)\n",
        "plt.pcolormesh(xx, yy, mesh_predictions, cmap = light_colors)\n",
        "plt.scatter(train_data[:, 0], train_data[:, 1], c = train_labels, cmap = colors)\n",
        "plt.title(f'Train accuracy={train_accuracy:.2f}')\n",
        "\n",
        "# график тестовой выборки\n",
        "plt.subplot(1,2,2)\n",
        "plt.pcolormesh(xx, yy, mesh_predictions, cmap = light_colors)\n",
        "plt.scatter(test_data[:, 0], test_data[:, 1], c = test_labels, cmap = colors)\n",
        "plt.title(f'Test accuracy={test_accuracy:.2f}')"
      ],
      "metadata": {
        "colab": {
          "base_uri": "https://localhost:8080/",
          "height": 498
        },
        "id": "gOzCEzxUjVvy",
        "outputId": "3cf219ce-dc8d-430b-a0e9-ed2272d255cc"
      },
      "execution_count": null,
      "outputs": [
        {
          "output_type": "stream",
          "name": "stdout",
          "text": [
            "Точность случайного леса из 10 деревьев на обучающей выборке: 95.714\n",
            "Точность случайного леса из 10 деревьев на тестовой выборке: 86.667\n"
          ]
        },
        {
          "output_type": "execute_result",
          "data": {
            "text/plain": [
              "Text(0.5, 1.0, 'Test accuracy=86.67')"
            ]
          },
          "metadata": {},
          "execution_count": 40
        },
        {
          "output_type": "display_data",
          "data": {
            "text/plain": [
              "<Figure size 1152x504 with 2 Axes>"
            ],
            "image/png": "[encoded data removed]"
          },
          "metadata": {
            "needs_background": "light"
          }
        }
      ]
    },
    {
      "cell_type": "markdown",
      "metadata": {
        "id": "Fa3cUkrLbIYP"
      },
      "source": [
        "Построим лес из пятидесяти деревьев."
      ]
    },
    {
      "cell_type": "code",
      "source": [
        "n_trees = 50\n",
        "my_forest_50 = random_forest(train_data, train_labels, n_trees)\n",
        "\n",
        "# Получим ответы для обучающей выборки \n",
        "train_answers = tree_vote(my_forest_50, train_data)\n",
        "\n",
        "# И получим ответы для тестовой выборки\n",
        "test_answers = tree_vote(my_forest_50, test_data)\n",
        "\n",
        "# Точность на обучающей выборке\n",
        "train_accuracy = accuracy_metric(train_labels, train_answers)\n",
        "print(f'Точность случайного леса из {n_trees} деревьев на обучающей выборке: {train_accuracy:.3f}')\n",
        "\n",
        "# Точность на тестовой выборке\n",
        "test_accuracy = accuracy_metric(test_labels, test_answers)\n",
        "print(f'Точность случайного леса из {n_trees} деревьев на тестовой выборке: {test_accuracy:.3f}')\n",
        "\n",
        "# Визуализируем дерево на графике\n",
        "# график обучающей выборки\n",
        "plt.figure(figsize = (16, 7))\n",
        "plt.subplot(1,2,1)\n",
        "xx, yy = get_meshgrid(train_data)\n",
        "mesh_predictions = np.array(tree_vote(my_forest_50, np.c_[xx.ravel(), yy.ravel()])).reshape(xx.shape)\n",
        "plt.pcolormesh(xx, yy, mesh_predictions, cmap = light_colors)\n",
        "plt.scatter(train_data[:, 0], train_data[:, 1], c = train_labels, cmap = colors)\n",
        "plt.title(f'Train accuracy={train_accuracy:.2f}')\n",
        "\n",
        "# график тестовой выборки\n",
        "plt.subplot(1,2,2)\n",
        "plt.pcolormesh(xx, yy, mesh_predictions, cmap = light_colors)\n",
        "plt.scatter(test_data[:, 0], test_data[:, 1], c = test_labels, cmap = colors)\n",
        "plt.title(f'Test accuracy={test_accuracy:.2f}')"
      ],
      "metadata": {
        "colab": {
          "base_uri": "https://localhost:8080/",
          "height": 498
        },
        "id": "SPyzV8QSjlXz",
        "outputId": "a2782c5c-7e3c-4e87-ef30-6e8a21551063"
      },
      "execution_count": null,
      "outputs": [
        {
          "output_type": "stream",
          "name": "stdout",
          "text": [
            "Точность случайного леса из 50 деревьев на обучающей выборке: 95.714\n",
            "Точность случайного леса из 50 деревьев на тестовой выборке: 90.000\n"
          ]
        },
        {
          "output_type": "execute_result",
          "data": {
            "text/plain": [
              "Text(0.5, 1.0, 'Test accuracy=90.00')"
            ]
          },
          "metadata": {},
          "execution_count": 41
        },
        {
          "output_type": "display_data",
          "data": {
            "text/plain": [
              "<Figure size 1152x504 with 2 Axes>"
            ],
            "image/png": "[encoded data removed]"
          },
          "metadata": {
            "needs_background": "light"
          }
        }
      ]
    },
    {
      "cell_type": "markdown",
      "source": [
        "**2. Сделайте выводы о получаемой сложности гиперплоскости и недообучении или переобучении случайного леса в зависимости от количества деревьев в нём.**"
      ],
      "metadata": {
        "id": "g3aIzfPtkhE4"
      }
    },
    {
      "cell_type": "markdown",
      "source": [
        "При малом количестве деревьев модель недообучается. Показатели качества на тестовой выборке низкие, гиперплоскость сложная.\n",
        "\n",
        "При увеличении количества деревьев до 10 - 50 гиперплоскость становится проще и качество обучения тестовой выборки выше.\n",
        "\n",
        "Вывод - при увеличении количества деревьев в лесу повышается качество обучения модели, модель не переобучается."
      ],
      "metadata": {
        "id": "3KReLTcrlXj_"
      }
    },
    {
      "cell_type": "markdown",
      "source": [
        "**3. Замените в реализованном алгоритме проверку, используя отложенную выборку на Out-of-Bag.**"
      ],
      "metadata": {
        "id": "gmQBX82PYjMC"
      }
    },
    {
      "cell_type": "code",
      "source": [
        "def get_bootstrap(data, labels, N, oob_score):\n",
        "    \n",
        "    random.seed(42)\n",
        "    n_samples = data.shape[0]\n",
        "    bootstrap = []\n",
        "    oob_examples = []\n",
        "    \n",
        "    for i in range(N):\n",
        "        b_data = np.zeros(data.shape)\n",
        "        b_labels = np.zeros(labels.shape)\n",
        "        indicies = []\n",
        "        \n",
        "        for j in range(n_samples):\n",
        "            sample_index = random.randint(0, n_samples-1)\n",
        "            indicies.append(sample_index)\n",
        "            b_data[j] = data[sample_index]\n",
        "            b_labels[j] = labels[sample_index]\n",
        "            \n",
        "        bootstrap.append((b_data, b_labels))\n",
        "        \n",
        "        if oob_score:\n",
        "            oob_indicies = [idx for idx in range(n_samples) if idx not in set(indicies)]\n",
        "            oob_data = data[oob_indicies]\n",
        "            oob_labels = labels[oob_indicies]\n",
        "            oob_examples.append((oob_data, oob_labels))\n",
        "        \n",
        "    return bootstrap, oob_examples"
      ],
      "metadata": {
        "id": "BgFES3lEmAnn"
      },
      "execution_count": null,
      "outputs": []
    },
    {
      "cell_type": "code",
      "source": [
        "def random_forest(data, labels, n_trees, oob_score=False):\n",
        "    forest = []\n",
        "    bootstrap, oob_examples = get_bootstrap(data, labels, n_trees, oob_score=oob_score)\n",
        "    \n",
        "    for b_data, b_labels in bootstrap:\n",
        "        forest.append(build_tree(b_data, b_labels))\n",
        "        \n",
        "    if oob_score:\n",
        "        oob_acc = 0\n",
        "        for i in range(n_trees):\n",
        "            oob_acc += calc_oob_acc(oob_examples[i], forest[i])\n",
        "        \n",
        "        oob_acc = oob_acc / n_trees\n",
        "        return forest, oob_acc\n",
        "    \n",
        "    return forest"
      ],
      "metadata": {
        "id": "aQ4zVvCTmW1R"
      },
      "execution_count": null,
      "outputs": []
    },
    {
      "cell_type": "code",
      "source": [
        "def calc_oob_acc(oob_examples, tree):\n",
        "    oob_answers = predict(oob_examples[0], tree)\n",
        "    oob_acc = accuracy_metric(oob_examples[1], oob_answers)\n",
        "    return oob_acc"
      ],
      "metadata": {
        "id": "UUidJuz1mZKm"
      },
      "execution_count": null,
      "outputs": []
    },
    {
      "cell_type": "code",
      "source": [
        "n_trees = 50\n",
        "my_forest_50, oob_score = random_forest(train_data, train_labels, n_trees, oob_score=True)\n",
        "\n",
        "print(f'OOB Score: {oob_score:.3f}')"
      ],
      "metadata": {
        "colab": {
          "base_uri": "https://localhost:8080/"
        },
        "id": "p840L1oYmbJ2",
        "outputId": "032d59b5-39d3-43ee-8d29-8edee7301e61"
      },
      "execution_count": null,
      "outputs": [
        {
          "output_type": "stream",
          "name": "stdout",
          "text": [
            "OOB Score: 89.663\n"
          ]
        }
      ]
    },
    {
      "cell_type": "markdown",
      "source": [
        "**4. (На повторение) Перепишите функцию calc_gini из урока про решающие деревья так, чтобы в качестве критерия использовалась энтропия Шеннона. Переименуйте функцию в calc_entropy.**"
      ],
      "metadata": {
        "id": "-GfxK7HQYnet"
      }
    },
    {
      "cell_type": "markdown",
      "source": [
        "![image-7.png](data:image/png;base64,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)"
      ],
      "metadata": {
        "id": "Aai-dzcntRFL"
      }
    },
    {
      "cell_type": "code",
      "source": [
        "# def gini(labels):\n",
        "#     #  подсчёт количества объектов разных классов\n",
        "#     classes = {}\n",
        "#     for label in labels:\n",
        "#         if label not in classes:\n",
        "#             classes[label] = 0\n",
        "#         classes[label] += 1\n",
        "    \n",
        "#     #  расчёт критерия\n",
        "#     impurity = 1\n",
        "#     for label in classes:\n",
        "#         p = classes[label] / len(labels)\n",
        "#         impurity -= p ** 2\n",
        "        \n",
        "#     return impurity\n",
        "\n",
        "def calc_entropy(labels):\n",
        "  #  подсчёт количества объектов разных классов\n",
        "    classes = {}\n",
        "    for label in labels:\n",
        "        if label not in classes:\n",
        "            classes[label] = 0\n",
        "        classes[label] += 1\n",
        "  # подсчет частоты каждого класса\n",
        "    for label in classes:\n",
        "        classes[label] = labels.count(label) / len(labels)\n",
        "\n",
        "  # итерируемся по словарю для расчета суммы\n",
        "    negative_entropy = 0\n",
        "    for i in labels:\n",
        "      rel_freq = classes[i]\n",
        "      negative_entropy += rel_freq * log(rel_freq, 2)\n",
        "      \n",
        "    return -negative_entropy"
      ],
      "metadata": {
        "id": "1hBO_nJznfWk"
      },
      "execution_count": null,
      "outputs": []
    },
    {
      "cell_type": "code",
      "source": [
        "a, b = [0, 0, 0, 0], [0, 0, 1, 1]\n",
        "\n",
        "print(f'Entropy of {a}: {calc_entropy(a)}')\n",
        "print(f'Entropy of {b}: {calc_entropy(b)}')"
      ],
      "metadata": {
        "colab": {
          "base_uri": "https://localhost:8080/"
        },
        "id": "RPvm-YmwoTm0",
        "outputId": "d74f27f7-84e7-4158-8593-8c10a8c279fe"
      },
      "execution_count": null,
      "outputs": [
        {
          "output_type": "stream",
          "name": "stdout",
          "text": [
            "Entropy of [0, 0, 0, 0]: -0.0\n",
            "Entropy of [0, 0, 1, 1]: 2.0\n"
          ]
        }
      ]
    }
  ],
  "metadata": {
    "colab": {
      "provenance": [],
      "include_colab_link": true
    },
    "kernelspec": {
      "display_name": "Python 3",
      "language": "python",
      "name": "python3"
    },
    "language_info": {
      "codemirror_mode": {
        "name": "ipython",
        "version": 3
      },
      "file_extension": ".py",
      "mimetype": "text/x-python",
      "name": "python",
      "nbconvert_exporter": "python",
      "pygments_lexer": "ipython3",
      "version": "3.7.6"
    }
  },
  "nbformat": 4,
  "nbformat_minor": 0
}